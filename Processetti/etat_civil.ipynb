{
 "cells": [
  {
   "cell_type": "markdown",
   "metadata": {},
   "source": []
  },
  {
   "cell_type": "markdown",
   "metadata": {},
   "source": [
    "# Préparation"
   ]
  },
  {
   "cell_type": "markdown",
   "metadata": {},
   "source": [
    "## Librairies\n",
    "\n",
    "Libraries are used as a collection of pre-defined commands that can – once imported – be used throughout the notebook.\n",
    "\n",
    "Importer ces librairies qui auront préalablement ajoutées à l'environnement de travail activé (soit dans un environnement local, soit dans le document _environment.yml_ dans Binder)."
   ]
  },
  {
   "cell_type": "code",
   "execution_count": 1,
   "metadata": {},
   "outputs": [],
   "source": [
    "import json\n",
    "import pprint\n",
    "from collections import Counter\n",
    "from operator import itemgetter\n",
    "import csv"
   ]
  },
  {
   "cell_type": "code",
   "execution_count": 2,
   "metadata": {},
   "outputs": [],
   "source": [
    "# https://github.com/drgrib/dotmap\n",
    "from dotmap import DotMap"
   ]
  },
  {
   "cell_type": "code",
   "execution_count": 3,
   "metadata": {},
   "outputs": [],
   "source": [
    "import numpy as np\n",
    "import matplotlib.pyplot as plt\n",
    "import pandas as pd\n",
    "import seaborn as sns"
   ]
  },
  {
   "cell_type": "code",
   "execution_count": null,
   "metadata": {},
   "outputs": [],
   "source": [
    "# Non utilisées pour l'instant dans ce carnet\n",
    "# import jdcal as jd\n",
    "# import datetime\n"
   ]
  },
  {
   "cell_type": "markdown",
   "metadata": {},
   "source": [
    "## Fonction locales"
   ]
  },
  {
   "cell_type": "code",
   "execution_count": 4,
   "metadata": {},
   "outputs": [],
   "source": [
    "# Fonction de nettoyage des chaînes de caractères\n",
    "def clean_up_str(string):\n",
    "    a = ''\n",
    "    if string:\n",
    "        a = string.replace('\\xa0', '').replace('  ', ' ').strip()\n",
    "    return a    "
   ]
  },
  {
   "cell_type": "code",
   "execution_count": 5,
   "metadata": {},
   "outputs": [],
   "source": [
    "###  Fonction qui élimine les doubons dans la légende\n",
    "##  https://stackoverflow.com/questions/19385639/duplicate-items-in-legend-in-matplotlib\n",
    "\n",
    "def legend_without_duplicate_labels(ax):\n",
    "    handles, labels = ax.get_legend_handles_labels()\n",
    "    unique = [(h, l) for i, (h, l) in enumerate(zip(handles, labels)) if l not in labels[:i]]\n",
    "    ax.legend(*zip(*unique))"
   ]
  },
  {
   "cell_type": "code",
   "execution_count": null,
   "metadata": {},
   "outputs": [],
   "source": []
  },
  {
   "cell_type": "markdown",
   "metadata": {},
   "source": [
    "# Préparation des données à analyser"
   ]
  },
  {
   "cell_type": "markdown",
   "metadata": {},
   "source": [
    "## Ourvir et inspecter le fichier\n",
    "\n",
    "In this section, the data are inspected a first time. Here, we import the downloaded Geovistory output.\n",
    "\n",
    "Ce fichier contient le résultat d'une requête effectuée dans Geovistory, une table dans le domaine Analysis, ayant le même nom, effectuée à la date indiquée dans le nom du fichier. Si on souhaite utiliser un nouveau fichier, contenant de nouvelles données, il faut le télécharger depuis Geovistory vers le dossier *geovistory_query_exports* et indiquer l'adresse correcte dans la cellule suivante"
   ]
  },
  {
   "cell_type": "code",
   "execution_count": 6,
   "metadata": {},
   "outputs": [],
   "source": [
    "file = 'geovistory_query_exports/aq_stato_civile_20210831.json'"
   ]
  },
  {
   "cell_type": "code",
   "execution_count": 7,
   "metadata": {},
   "outputs": [
    {
     "name": "stdout",
     "output_type": "stream",
     "text": [
      "<class 'dict'> \n",
      "-----\n",
      "columns\n",
      "rows\n"
     ]
    }
   ],
   "source": [
    "### Ouvrir le fichier et le mettre dans la variable *data* sous forme de dictionnaire Python\n",
    "with open(file) as json_file:\n",
    "    data = json.load(json_file)\n",
    "print(type(data), '\\n-----')\n",
    "# noms des objets racine du fichier JSON\n",
    "z = [print(a) for a in data]"
   ]
  },
  {
   "cell_type": "code",
   "execution_count": 8,
   "metadata": {},
   "outputs": [
    {
     "data": {
      "text/plain": [
       "5794"
      ]
     },
     "execution_count": 8,
     "metadata": {},
     "output_type": "execute_result"
    }
   ],
   "source": [
    "### Nombre de lignes dans le fichier, \n",
    "# elles correspondent aux lignes du tableau \n",
    "# résultant de la requête dans Geovistory\n",
    "rows = data['rows']\n",
    "len(rows)"
   ]
  },
  {
   "cell_type": "code",
   "execution_count": 8,
   "metadata": {},
   "outputs": [
    {
     "name": "stdout",
     "output_type": "stream",
     "text": [
      "{'col_0': 'Entity Preview',\n",
      " 'col_1': 'Gender',\n",
      " 'col_10': 'Witness date(s)',\n",
      " 'col_11': 'Witness in enquiry of type',\n",
      " 'col_12': 'Real identity',\n",
      " 'col_13': 'Union Date',\n",
      " 'col_2': 'Birth',\n",
      " 'col_3': 'Occupation Date',\n",
      " 'col_4': 'Occupation Type',\n",
      " 'col_5': 'Origin',\n",
      " 'col_6': 'Pre-matrimonial Enquiry',\n",
      " 'col_7': 'Pre-matrimonial Enquiry Date',\n",
      " 'col_8': 'Pre-matrimonial Enquiry Type',\n",
      " 'col_9': 'Witness'}\n"
     ]
    }
   ],
   "source": [
    "### Les noms des colonnes issues de la requête dans Geovistory\n",
    "columns = data['columns']\n",
    "pprint.pprint(columns)"
   ]
  },
  {
   "cell_type": "code",
   "execution_count": null,
   "metadata": {
    "scrolled": true
   },
   "outputs": [],
   "source": [
    "### Afficher deux lignes du tableau\n",
    "# et explorer les objets qui représentent les cellules\n",
    "# du tableau pour chaque colonne\n",
    "[pprint.pprint(r) for r in rows[99:101]]"
   ]
  },
  {
   "cell_type": "code",
   "execution_count": 9,
   "metadata": {},
   "outputs": [],
   "source": [
    "### Créer un objet DotMap afin de faciliter le travail sur le fichier JSON\n",
    "dm_data = DotMap(data)"
   ]
  },
  {
   "cell_type": "code",
   "execution_count": 10,
   "metadata": {},
   "outputs": [
    {
     "data": {
      "text/plain": [
       "5794"
      ]
     },
     "execution_count": 10,
     "metadata": {},
     "output_type": "execute_result"
    }
   ],
   "source": [
    "### Créer une variable contenant les lignes\n",
    "dm_r = dm_data.rows\n",
    "### L'effectif des lignes\n",
    "len(dm_r)"
   ]
  },
  {
   "cell_type": "code",
   "execution_count": null,
   "metadata": {},
   "outputs": [],
   "source": []
  },
  {
   "cell_type": "markdown",
   "metadata": {},
   "source": [
    "## Transformation et mise à plat des données\n",
    "\n",
    "Il est nécessaire de disposer de données agrégées et mises à plat (en supprimant notamment les valeurs multiples pour une seule variable) afin de pouvoir effectuer les analyses.\n",
    "\n",
    "The following procedure was applied  to create a new table:\n",
    "- if multiple years existed (e.g. birth year), the average was chosen\n",
    "- if multiple occupation existed, all of them were kept and separated with a “#” sign\n",
    "- if multiple types of processetto existed, all of them were kept and separated with a “#” sign\n",
    "\n",
    "\n",
    "Below you find an extract of this new table. This new table is automatically exported as a csv-document. You can access and download this document in your jupyter-binder. You can open it in excel (via csv-import) and also analyze it there. This might help to understand the structure of the newly created table."
   ]
  },
  {
   "cell_type": "code",
   "execution_count": 11,
   "metadata": {},
   "outputs": [],
   "source": [
    "### Persons list = pl\n",
    "#   liste de personnes agrégéées et propriétés mises à plat\n",
    "\n",
    "pl = [['id_persona','nome','anno_nascita','genere','luogo_origine','mestieri',\\\n",
    "       'numero_processetti','id_primo_processetto','anno_primo_processetto','tipo_primo_processetto',\\\n",
    "       'numero_testimonianze','id_prima_testimonianza','anno_prima_testimonianza','tipo_prima_testimonianza',\\\n",
    "       'date_unions']]\n",
    "\n",
    "for r in dm_r: # [60:90]\n",
    "    element = []\n",
    "    # personne\n",
    "    element += [r.col_0.entity.pk_entity, clean_up_str(r.col_0.entity.entity_label)]\n",
    "    values = []\n",
    "    # annee naissance\n",
    "    for v in r.col_2['values']:\n",
    "        if v.value.timePrimitive:\n",
    "            values.append(int(v.value.timePrimitive['from'].calGregorian[:4]))\n",
    "    if len(values) > 1:\n",
    "        element += [int(round(np.rint(np.mean(values))))]\n",
    "    elif len(values) > 0:    \n",
    "        element += [values[0]]\n",
    "    else:\n",
    "        element += [None]\n",
    "        \n",
    "    # genre    \n",
    "    element += [r.col_1.entities[0].entity_label if r.col_1.entities else 'missing']\n",
    "\n",
    "    # origine(s)\n",
    "    element += ['#'.join([clean_up_str(p.entity_label) + '('+ str(p.pk_entity) +')' for p in r.col_5.entities])]\n",
    "\n",
    "    # metier(s)\n",
    "    element += ['#'.join([clean_up_str(p.entity_label) + '('+ str(p.pk_entity) +')' for p in r.col_4.entities])]\n",
    "    # element += [clean_up_str(p.entity_label) + '('+ str(p.pk_entity) +')' for p in r.col_4.entities]\n",
    "    pl.append(element)\n",
    "    \n",
    "    # nombre processetti + id premier processetto\n",
    "    if len(r.col_6.entities) > 0:\n",
    "        element += [len(r.col_6.entities)]\n",
    "        element += [[v.pk_entity for v in r.col_6.entities][0]]\n",
    "    else:\n",
    "        element += [0]\n",
    "        element += [0]\n",
    "        \n",
    "    # annee premier processetto\n",
    "    values = []\n",
    "    for v in r.col_7['values']:\n",
    "        if v.value.timePrimitive:\n",
    "            values.append(int(v.value.timePrimitive['from'].calGregorian[:4]))\n",
    "            values.append(int(v.value.timePrimitive['to'].calGregorian[:4]))\n",
    "    if len(values) > 1:\n",
    "        element += [int(round(np.rint(np.mean(values))))]\n",
    "    elif len(values) > 0:    \n",
    "        element += [values[0]]\n",
    "    else:\n",
    "        element += [None]\n",
    "        \n",
    "    # types premier processetto\n",
    "    if len(r.col_8.entities) > 0:\n",
    "        element += ['#'.join([v.entity_label for v in r.col_8.entities])]\n",
    "    else:\n",
    "        element += ['']\n",
    "    \n",
    "        \n",
    "    \n",
    "    # nombre testimone + id premier processetto testimone\n",
    "    if len(r.col_9.entities) > 0:\n",
    "        element += [len(r.col_9.entities)]\n",
    "        element += [[v.pk_entity for v in r.col_9.entities][0]]\n",
    "    else:\n",
    "        element += [0]\n",
    "        element += [0]\n",
    "        \n",
    "    # annee premier processetto testimone\n",
    "    values = []\n",
    "    for v in r.col_10['values']:\n",
    "        if v.value.timePrimitive:\n",
    "            values.append(int(v.value.timePrimitive['from'].calGregorian[:4]))\n",
    "            values.append(int(v.value.timePrimitive['to'].calGregorian[:4]))\n",
    "    if len(values) > 1:\n",
    "        element += [int(round(np.rint(np.mean(values))))]\n",
    "    elif len(values) > 0:    \n",
    "        element += [values[0]]\n",
    "    else:\n",
    "        element += [None]\n",
    "\n",
    "    # types processetto comme contexte de témoignage\n",
    "    if len(r.col_11.entities) > 0:\n",
    "        element += ['#'.join([v.entity_label for v in r.col_11.entities])]\n",
    "    else:\n",
    "        element += ['']\n",
    "        \n",
    "    # Union\n",
    "    values = []\n",
    "    for v in r.col_13['values']:\n",
    "        if v.value.timePrimitive:\n",
    "            values.append(int(v.value.timePrimitive['from'].calGregorian[:4]))\n",
    "            values.append(int(v.value.timePrimitive['to'].calGregorian[:4]))\n",
    "    if len(values) > 1:\n",
    "        element += [int(round(np.rint(np.mean(values))))]\n",
    "    elif len(values) > 0:    \n",
    "        element += [values[0]]\n",
    "    else:\n",
    "        element += [None]\n",
    "    "
   ]
  },
  {
   "cell_type": "code",
   "execution_count": null,
   "metadata": {
    "scrolled": true,
    "tags": []
   },
   "outputs": [],
   "source": [
    "### Inspection des données produites\n",
    "pl[:3]"
   ]
  },
  {
   "cell_type": "code",
   "execution_count": 12,
   "metadata": {},
   "outputs": [
    {
     "name": "stdout",
     "output_type": "stream",
     "text": [
      "Effectif : 5794 \n",
      "\n"
     ]
    },
    {
     "data": {
      "text/html": [
       "<div>\n",
       "<style scoped>\n",
       "    .dataframe tbody tr th:only-of-type {\n",
       "        vertical-align: middle;\n",
       "    }\n",
       "\n",
       "    .dataframe tbody tr th {\n",
       "        vertical-align: top;\n",
       "    }\n",
       "\n",
       "    .dataframe thead th {\n",
       "        text-align: right;\n",
       "    }\n",
       "</style>\n",
       "<table border=\"1\" class=\"dataframe\">\n",
       "  <thead>\n",
       "    <tr style=\"text-align: right;\">\n",
       "      <th></th>\n",
       "      <th>id_persona</th>\n",
       "      <th>nome</th>\n",
       "      <th>anno_nascita</th>\n",
       "      <th>genere</th>\n",
       "      <th>luogo_origine</th>\n",
       "      <th>mestieri</th>\n",
       "      <th>numero_processetti</th>\n",
       "      <th>id_primo_processetto</th>\n",
       "      <th>anno_primo_processetto</th>\n",
       "      <th>tipo_primo_processetto</th>\n",
       "      <th>numero_testimonianze</th>\n",
       "      <th>id_prima_testimonianza</th>\n",
       "      <th>anno_prima_testimonianza</th>\n",
       "      <th>tipo_prima_testimonianza</th>\n",
       "      <th>date_unions</th>\n",
       "    </tr>\n",
       "  </thead>\n",
       "  <tbody>\n",
       "    <tr>\n",
       "      <th>0</th>\n",
       "      <td>81417</td>\n",
       "      <td>Tommaso di Lorenzo Spilman (tedesco)</td>\n",
       "      <td>1558.0</td>\n",
       "      <td>Maschile</td>\n",
       "      <td>Alemania(753623)</td>\n",
       "      <td></td>\n",
       "      <td>0</td>\n",
       "      <td>0</td>\n",
       "      <td>NaN</td>\n",
       "      <td></td>\n",
       "      <td>1</td>\n",
       "      <td>739330</td>\n",
       "      <td>1592.0</td>\n",
       "      <td>Stato libero di “foresto” #Processetto atipico</td>\n",
       "      <td>NaN</td>\n",
       "    </tr>\n",
       "    <tr>\n",
       "      <th>1</th>\n",
       "      <td>81461</td>\n",
       "      <td>Gieremia Vais</td>\n",
       "      <td>NaN</td>\n",
       "      <td>Maschile</td>\n",
       "      <td></td>\n",
       "      <td></td>\n",
       "      <td>0</td>\n",
       "      <td>0</td>\n",
       "      <td>NaN</td>\n",
       "      <td></td>\n",
       "      <td>0</td>\n",
       "      <td>0</td>\n",
       "      <td>NaN</td>\n",
       "      <td></td>\n",
       "      <td>NaN</td>\n",
       "    </tr>\n",
       "    <tr>\n",
       "      <th>2</th>\n",
       "      <td>81648</td>\n",
       "      <td>Limoletti, Domenico</td>\n",
       "      <td>NaN</td>\n",
       "      <td>Maschile</td>\n",
       "      <td></td>\n",
       "      <td></td>\n",
       "      <td>0</td>\n",
       "      <td>0</td>\n",
       "      <td>NaN</td>\n",
       "      <td></td>\n",
       "      <td>0</td>\n",
       "      <td>0</td>\n",
       "      <td>NaN</td>\n",
       "      <td></td>\n",
       "      <td>NaN</td>\n",
       "    </tr>\n",
       "    <tr>\n",
       "      <th>3</th>\n",
       "      <td>737969</td>\n",
       "      <td>Maestro Venere (Padova)</td>\n",
       "      <td>NaN</td>\n",
       "      <td>Maschile</td>\n",
       "      <td></td>\n",
       "      <td></td>\n",
       "      <td>0</td>\n",
       "      <td>0</td>\n",
       "      <td>NaN</td>\n",
       "      <td></td>\n",
       "      <td>0</td>\n",
       "      <td>0</td>\n",
       "      <td>NaN</td>\n",
       "      <td></td>\n",
       "      <td>NaN</td>\n",
       "    </tr>\n",
       "    <tr>\n",
       "      <th>4</th>\n",
       "      <td>737986</td>\n",
       "      <td>Giacomo di Cristoforo Franes (da Füssen)</td>\n",
       "      <td>1566.0</td>\n",
       "      <td>Maschile</td>\n",
       "      <td>Füssen(1082004)</td>\n",
       "      <td></td>\n",
       "      <td>1</td>\n",
       "      <td>739330</td>\n",
       "      <td>1592.0</td>\n",
       "      <td>Stato libero di “foresto” #Processetto atipico</td>\n",
       "      <td>0</td>\n",
       "      <td>0</td>\n",
       "      <td>NaN</td>\n",
       "      <td></td>\n",
       "      <td>1592.0</td>\n",
       "    </tr>\n",
       "  </tbody>\n",
       "</table>\n",
       "</div>"
      ],
      "text/plain": [
       "   id_persona                                      nome  anno_nascita  \\\n",
       "0       81417      Tommaso di Lorenzo Spilman (tedesco)        1558.0   \n",
       "1       81461                             Gieremia Vais           NaN   \n",
       "2       81648                       Limoletti, Domenico           NaN   \n",
       "3      737969                   Maestro Venere (Padova)           NaN   \n",
       "4      737986  Giacomo di Cristoforo Franes (da Füssen)        1566.0   \n",
       "\n",
       "     genere     luogo_origine mestieri  numero_processetti  \\\n",
       "0  Maschile  Alemania(753623)                            0   \n",
       "1  Maschile                                              0   \n",
       "2  Maschile                                              0   \n",
       "3  Maschile                                              0   \n",
       "4  Maschile   Füssen(1082004)                            1   \n",
       "\n",
       "   id_primo_processetto  anno_primo_processetto  \\\n",
       "0                     0                     NaN   \n",
       "1                     0                     NaN   \n",
       "2                     0                     NaN   \n",
       "3                     0                     NaN   \n",
       "4                739330                  1592.0   \n",
       "\n",
       "                            tipo_primo_processetto  numero_testimonianze  \\\n",
       "0                                                                      1   \n",
       "1                                                                      0   \n",
       "2                                                                      0   \n",
       "3                                                                      0   \n",
       "4  Stato libero di “foresto” #Processetto atipico                      0   \n",
       "\n",
       "   id_prima_testimonianza  anno_prima_testimonianza  \\\n",
       "0                  739330                    1592.0   \n",
       "1                       0                       NaN   \n",
       "2                       0                       NaN   \n",
       "3                       0                       NaN   \n",
       "4                       0                       NaN   \n",
       "\n",
       "                          tipo_prima_testimonianza  date_unions  \n",
       "0  Stato libero di “foresto” #Processetto atipico           NaN  \n",
       "1                                                           NaN  \n",
       "2                                                           NaN  \n",
       "3                                                           NaN  \n",
       "4                                                        1592.0  "
      ]
     },
     "execution_count": 12,
     "metadata": {},
     "output_type": "execute_result"
    }
   ],
   "source": [
    "### Transformation en DataFrame \n",
    "pl_df = pd.DataFrame(pl[1:], columns=pl[0])\n",
    "print('Effectif :', len(pl_df), '\\n')\n",
    "pl_df.head()"
   ]
  },
  {
   "cell_type": "code",
   "execution_count": null,
   "metadata": {},
   "outputs": [],
   "source": [
    "### Export vers un fichier CSV\n",
    "#  Ce fichier pourra être exploré et manipulé dans un tableur, si souhaité\n",
    "file_exp = 'geovistory_query_exports/demographie.csv'\n",
    "pl_df.to_csv(file_exp, sep='|')"
   ]
  },
  {
   "cell_type": "markdown",
   "metadata": {},
   "source": [
    "## Ajout de l'âge\n",
    "\n",
    "Ajout d'une colonne contenant l'age des personnes au moment du processetto. Noter qu'il s'agit de moyenne en raison de la mise à plat et lissage des données opéré ci-dessus"
   ]
  },
  {
   "cell_type": "code",
   "execution_count": 13,
   "metadata": {},
   "outputs": [],
   "source": [
    "pl_df['anno_primo_processetto'] = pl_df['anno_primo_processetto'].fillna(0)\n",
    "pl_df['anno_prima_testimonianza'] = pl_df['anno_prima_testimonianza'].fillna(0)"
   ]
  },
  {
   "cell_type": "code",
   "execution_count": 14,
   "metadata": {
    "tags": []
   },
   "outputs": [],
   "source": [
    "pl_df['eta'] = pl_df['anno_primo_processetto'] + pl_df['anno_prima_testimonianza'] - pl_df['anno_nascita']\n",
    "pl_df['eta'] = pl_df['eta'].fillna(0)"
   ]
  },
  {
   "cell_type": "code",
   "execution_count": null,
   "metadata": {},
   "outputs": [],
   "source": []
  },
  {
   "cell_type": "markdown",
   "metadata": {},
   "source": [
    "### Effectifs par type de processetto\n",
    "The lines below list the number of processetto per type"
   ]
  },
  {
   "cell_type": "code",
   "execution_count": 16,
   "metadata": {
    "tags": []
   },
   "outputs": [
    {
     "data": {
      "text/plain": [
       "tipo_primo_processetto\n",
       "                                                                                    3954\n",
       "Stato libero di “foresto”                                                           1567\n",
       "Vedovanza                                                                            195\n",
       "Stato libero di “foresto” #Processetto atipico                                        16\n",
       "Stato libero di “foresto” #Stato libero di persona lungamente assente da Venezia      14\n",
       "Processetto atipico                                                                   13\n",
       "Stato libero di persona lungamente assente da Venezia                                 13\n",
       "Vedovanza#Stato libero di “foresto”                                                   12\n",
       "Vedovanza#Processetto atipico                                                          8\n",
       "Processetto atipico #Stato libero di persona lungamente assente da Venezia             2\n",
       "dtype: int64"
      ]
     },
     "execution_count": 16,
     "metadata": {},
     "output_type": "execute_result"
    }
   ],
   "source": [
    "### Regrouper par type de processetto\n",
    "gb_pl_df = pl_df.groupby('tipo_primo_processetto').size()\n",
    "gb_pl_df.sort_values(ascending = False)"
   ]
  },
  {
   "cell_type": "code",
   "execution_count": null,
   "metadata": {},
   "outputs": [],
   "source": []
  },
  {
   "cell_type": "markdown",
   "metadata": {},
   "source": [
    "### Nombre de processetti / témoignages par personne\n",
    "\n",
    "Ces requêtes peuvent être utiliser pour vérifer les données.\n",
    "\n",
    "The lines below examine how many of the witnesses / demanders have been part of one or several processetti."
   ]
  },
  {
   "cell_type": "code",
   "execution_count": 17,
   "metadata": {},
   "outputs": [
    {
     "data": {
      "text/plain": [
       "numero_processetti\n",
       "0    3952\n",
       "1    1840\n",
       "2       2\n",
       "dtype: int64"
      ]
     },
     "execution_count": 17,
     "metadata": {},
     "output_type": "execute_result"
    }
   ],
   "source": [
    "### Nombre de processetti par personne\n",
    "# Colonnes : effectif processetti par personne, effectif personne avec cet effectif\n",
    "gb_pl_df = pl_df.groupby('numero_processetti').size()\n",
    "gb_pl_df.sort_values(ascending = False)"
   ]
  },
  {
   "cell_type": "code",
   "execution_count": 18,
   "metadata": {},
   "outputs": [
    {
     "data": {
      "text/plain": [
       "numero_testimonianze\n",
       "1    3537\n",
       "0    2126\n",
       "2     124\n",
       "3       6\n",
       "4       1\n",
       "dtype: int64"
      ]
     },
     "execution_count": 18,
     "metadata": {},
     "output_type": "execute_result"
    }
   ],
   "source": [
    "### Nombre de témoignages par personne\n",
    "# Colonnes : effectif témoignages par personne, effectif personne avec cet effectif\n",
    "gb_pl_df = pl_df.groupby('numero_testimonianze').size()\n",
    "gb_pl_df.sort_values(ascending = False)"
   ]
  },
  {
   "cell_type": "code",
   "execution_count": 20,
   "metadata": {},
   "outputs": [
    {
     "data": {
      "text/html": [
       "<div>\n",
       "<style scoped>\n",
       "    .dataframe tbody tr th:only-of-type {\n",
       "        vertical-align: middle;\n",
       "    }\n",
       "\n",
       "    .dataframe tbody tr th {\n",
       "        vertical-align: top;\n",
       "    }\n",
       "\n",
       "    .dataframe thead th {\n",
       "        text-align: right;\n",
       "    }\n",
       "</style>\n",
       "<table border=\"1\" class=\"dataframe\">\n",
       "  <thead>\n",
       "    <tr style=\"text-align: right;\">\n",
       "      <th></th>\n",
       "      <th>id_persona</th>\n",
       "      <th>nome</th>\n",
       "      <th>anno_nascita</th>\n",
       "      <th>genere</th>\n",
       "      <th>luogo_origine</th>\n",
       "      <th>mestieri</th>\n",
       "      <th>numero_processetti</th>\n",
       "      <th>id_primo_processetto</th>\n",
       "      <th>anno_primo_processetto</th>\n",
       "      <th>tipo_primo_processetto</th>\n",
       "      <th>numero_testimonianze</th>\n",
       "      <th>id_prima_testimonianza</th>\n",
       "      <th>anno_prima_testimonianza</th>\n",
       "      <th>tipo_prima_testimonianza</th>\n",
       "      <th>date_unions</th>\n",
       "      <th>eta</th>\n",
       "    </tr>\n",
       "  </thead>\n",
       "  <tbody>\n",
       "    <tr>\n",
       "      <th>2565</th>\n",
       "      <td>1154189</td>\n",
       "      <td>Giuseppe di Francesco detto Polenta (udinese, ...</td>\n",
       "      <td>1576.0</td>\n",
       "      <td>Maschile</td>\n",
       "      <td>Territorio di Udine(759336)</td>\n",
       "      <td>calegher(757359)#cerdo(985332)</td>\n",
       "      <td>2</td>\n",
       "      <td>1154425</td>\n",
       "      <td>1599.0</td>\n",
       "      <td>Stato libero di “foresto”</td>\n",
       "      <td>0</td>\n",
       "      <td>0</td>\n",
       "      <td>0.0</td>\n",
       "      <td></td>\n",
       "      <td>NaN</td>\n",
       "      <td>23.0</td>\n",
       "    </tr>\n",
       "    <tr>\n",
       "      <th>4382</th>\n",
       "      <td>1511103</td>\n",
       "      <td>Pasqualina di Giorgio (mariner), vedova di Dom...</td>\n",
       "      <td>NaN</td>\n",
       "      <td>Femminile</td>\n",
       "      <td></td>\n",
       "      <td></td>\n",
       "      <td>2</td>\n",
       "      <td>1511117</td>\n",
       "      <td>1628.0</td>\n",
       "      <td>Stato libero di “foresto”</td>\n",
       "      <td>0</td>\n",
       "      <td>0</td>\n",
       "      <td>0.0</td>\n",
       "      <td></td>\n",
       "      <td>1626.0</td>\n",
       "      <td>0.0</td>\n",
       "    </tr>\n",
       "  </tbody>\n",
       "</table>\n",
       "</div>"
      ],
      "text/plain": [
       "      id_persona                                               nome  \\\n",
       "2565     1154189  Giuseppe di Francesco detto Polenta (udinese, ...   \n",
       "4382     1511103  Pasqualina di Giorgio (mariner), vedova di Dom...   \n",
       "\n",
       "      anno_nascita     genere                luogo_origine  \\\n",
       "2565        1576.0   Maschile  Territorio di Udine(759336)   \n",
       "4382           NaN  Femminile                                \n",
       "\n",
       "                            mestieri  numero_processetti  \\\n",
       "2565  calegher(757359)#cerdo(985332)                   2   \n",
       "4382                                                   2   \n",
       "\n",
       "      id_primo_processetto  anno_primo_processetto  \\\n",
       "2565               1154425                  1599.0   \n",
       "4382               1511117                  1628.0   \n",
       "\n",
       "          tipo_primo_processetto  numero_testimonianze  \\\n",
       "2565  Stato libero di “foresto”                      0   \n",
       "4382  Stato libero di “foresto”                      0   \n",
       "\n",
       "      id_prima_testimonianza  anno_prima_testimonianza  \\\n",
       "2565                       0                       0.0   \n",
       "4382                       0                       0.0   \n",
       "\n",
       "     tipo_prima_testimonianza  date_unions   eta  \n",
       "2565                                   NaN  23.0  \n",
       "4382                                1626.0   0.0  "
      ]
     },
     "execution_count": 20,
     "metadata": {},
     "output_type": "execute_result"
    }
   ],
   "source": [
    "### Nombre de processetti par personne\n",
    "pl_df[pl_df['numero_processetti']==2]"
   ]
  },
  {
   "cell_type": "code",
   "execution_count": 152,
   "metadata": {},
   "outputs": [
    {
     "data": {
      "text/html": [
       "<div>\n",
       "<style scoped>\n",
       "    .dataframe tbody tr th:only-of-type {\n",
       "        vertical-align: middle;\n",
       "    }\n",
       "\n",
       "    .dataframe tbody tr th {\n",
       "        vertical-align: top;\n",
       "    }\n",
       "\n",
       "    .dataframe thead th {\n",
       "        text-align: right;\n",
       "    }\n",
       "</style>\n",
       "<table border=\"1\" class=\"dataframe\">\n",
       "  <thead>\n",
       "    <tr style=\"text-align: right;\">\n",
       "      <th></th>\n",
       "      <th>id_persona</th>\n",
       "      <th>nome</th>\n",
       "      <th>anno_nascita</th>\n",
       "      <th>genere</th>\n",
       "      <th>luogo_origine</th>\n",
       "      <th>mestieri</th>\n",
       "      <th>numero_processetti</th>\n",
       "      <th>id_primo_processetto</th>\n",
       "      <th>anno_primo_processetto</th>\n",
       "      <th>tipo_primo_processetto</th>\n",
       "      <th>numero_testimonianze</th>\n",
       "      <th>id_prima_testimonianza</th>\n",
       "      <th>anno_prima_testimonianza</th>\n",
       "      <th>tipo_prima_testimonianza</th>\n",
       "      <th>date_unions</th>\n",
       "      <th>eta</th>\n",
       "    </tr>\n",
       "  </thead>\n",
       "  <tbody>\n",
       "    <tr>\n",
       "      <th>226</th>\n",
       "      <td>764721</td>\n",
       "      <td>Giovanni di Daniele Marconi (da Travesio, facc...</td>\n",
       "      <td>1551.0</td>\n",
       "      <td>Maschile</td>\n",
       "      <td>Travesio(764857)</td>\n",
       "      <td>fachin(749039)</td>\n",
       "      <td>0</td>\n",
       "      <td>0</td>\n",
       "      <td>0.0</td>\n",
       "      <td></td>\n",
       "      <td>3</td>\n",
       "      <td>764839</td>\n",
       "      <td>1598.0</td>\n",
       "      <td>Vedovanza#Stato libero di “foresto” #Processet...</td>\n",
       "      <td>NaN</td>\n",
       "      <td>47.0</td>\n",
       "    </tr>\n",
       "    <tr>\n",
       "      <th>858</th>\n",
       "      <td>1036690</td>\n",
       "      <td>Cristoforo di Tommaso Volpi (da Ranzanico, fac...</td>\n",
       "      <td>1554.0</td>\n",
       "      <td>Maschile</td>\n",
       "      <td>Ranzanico(1036748)</td>\n",
       "      <td>fachin(749039)</td>\n",
       "      <td>0</td>\n",
       "      <td>0</td>\n",
       "      <td>0.0</td>\n",
       "      <td></td>\n",
       "      <td>3</td>\n",
       "      <td>1036823</td>\n",
       "      <td>1598.0</td>\n",
       "      <td>Stato libero di “foresto”</td>\n",
       "      <td>NaN</td>\n",
       "      <td>44.0</td>\n",
       "    </tr>\n",
       "    <tr>\n",
       "      <th>1044</th>\n",
       "      <td>1050308</td>\n",
       "      <td>Agostino di Antonio Desiderati (da Padenghe su...</td>\n",
       "      <td>1566.0</td>\n",
       "      <td>Maschile</td>\n",
       "      <td>Padenghe sul Garda(1050413)</td>\n",
       "      <td>capeler(1057729)</td>\n",
       "      <td>0</td>\n",
       "      <td>0</td>\n",
       "      <td>0.0</td>\n",
       "      <td></td>\n",
       "      <td>3</td>\n",
       "      <td>1050581</td>\n",
       "      <td>1598.0</td>\n",
       "      <td>Vedovanza#Stato libero di “foresto”</td>\n",
       "      <td>NaN</td>\n",
       "      <td>32.0</td>\n",
       "    </tr>\n",
       "    <tr>\n",
       "      <th>1633</th>\n",
       "      <td>1091832</td>\n",
       "      <td>Francesco di Tommaso Onger (udinese, calegher)</td>\n",
       "      <td>1566.0</td>\n",
       "      <td>Maschile</td>\n",
       "      <td>Territorio di Udine(759336)</td>\n",
       "      <td>calegher(757359)#cerdo(985332)</td>\n",
       "      <td>1</td>\n",
       "      <td>1092130</td>\n",
       "      <td>1599.0</td>\n",
       "      <td>Stato libero di “foresto”</td>\n",
       "      <td>3</td>\n",
       "      <td>1154425</td>\n",
       "      <td>1599.0</td>\n",
       "      <td>Stato libero di “foresto”</td>\n",
       "      <td>NaN</td>\n",
       "      <td>1632.0</td>\n",
       "    </tr>\n",
       "    <tr>\n",
       "      <th>2638</th>\n",
       "      <td>1159538</td>\n",
       "      <td>Ambrogio di Faustino Vitali (da Grevo, fachin)</td>\n",
       "      <td>1556.0</td>\n",
       "      <td>Maschile</td>\n",
       "      <td>Grevo(1159494)</td>\n",
       "      <td>fachin(749039)</td>\n",
       "      <td>0</td>\n",
       "      <td>0</td>\n",
       "      <td>0.0</td>\n",
       "      <td></td>\n",
       "      <td>3</td>\n",
       "      <td>1159625</td>\n",
       "      <td>1598.0</td>\n",
       "      <td>Stato libero di “foresto”</td>\n",
       "      <td>NaN</td>\n",
       "      <td>42.0</td>\n",
       "    </tr>\n",
       "    <tr>\n",
       "      <th>3479</th>\n",
       "      <td>1299129</td>\n",
       "      <td>Battista di Giacomo (dal Cadore, forner)</td>\n",
       "      <td>1566.0</td>\n",
       "      <td>Maschile</td>\n",
       "      <td>Cadore(761036)</td>\n",
       "      <td>forner(760716)</td>\n",
       "      <td>0</td>\n",
       "      <td>0</td>\n",
       "      <td>0.0</td>\n",
       "      <td></td>\n",
       "      <td>3</td>\n",
       "      <td>1299579</td>\n",
       "      <td>1601.0</td>\n",
       "      <td>Stato libero di “foresto”</td>\n",
       "      <td>NaN</td>\n",
       "      <td>35.0</td>\n",
       "    </tr>\n",
       "  </tbody>\n",
       "</table>\n",
       "</div>"
      ],
      "text/plain": [
       "      id_persona                                               nome  \\\n",
       "226       764721  Giovanni di Daniele Marconi (da Travesio, facc...   \n",
       "858      1036690  Cristoforo di Tommaso Volpi (da Ranzanico, fac...   \n",
       "1044     1050308  Agostino di Antonio Desiderati (da Padenghe su...   \n",
       "1633     1091832     Francesco di Tommaso Onger (udinese, calegher)   \n",
       "2638     1159538     Ambrogio di Faustino Vitali (da Grevo, fachin)   \n",
       "3479     1299129           Battista di Giacomo (dal Cadore, forner)   \n",
       "\n",
       "      anno_nascita    genere                luogo_origine  \\\n",
       "226         1551.0  Maschile             Travesio(764857)   \n",
       "858         1554.0  Maschile           Ranzanico(1036748)   \n",
       "1044        1566.0  Maschile  Padenghe sul Garda(1050413)   \n",
       "1633        1566.0  Maschile  Territorio di Udine(759336)   \n",
       "2638        1556.0  Maschile               Grevo(1159494)   \n",
       "3479        1566.0  Maschile               Cadore(761036)   \n",
       "\n",
       "                            mestieri  numero_processetti  \\\n",
       "226                   fachin(749039)                   0   \n",
       "858                   fachin(749039)                   0   \n",
       "1044                capeler(1057729)                   0   \n",
       "1633  calegher(757359)#cerdo(985332)                   1   \n",
       "2638                  fachin(749039)                   0   \n",
       "3479                  forner(760716)                   0   \n",
       "\n",
       "      id_primo_processetto  anno_primo_processetto  \\\n",
       "226                      0                     0.0   \n",
       "858                      0                     0.0   \n",
       "1044                     0                     0.0   \n",
       "1633               1092130                  1599.0   \n",
       "2638                     0                     0.0   \n",
       "3479                     0                     0.0   \n",
       "\n",
       "          tipo_primo_processetto  numero_testimonianze  \\\n",
       "226                                                  3   \n",
       "858                                                  3   \n",
       "1044                                                 3   \n",
       "1633  Stato libero di “foresto”                      3   \n",
       "2638                                                 3   \n",
       "3479                                                 3   \n",
       "\n",
       "      id_prima_testimonianza  anno_prima_testimonianza  \\\n",
       "226                   764839                    1598.0   \n",
       "858                  1036823                    1598.0   \n",
       "1044                 1050581                    1598.0   \n",
       "1633                 1154425                    1599.0   \n",
       "2638                 1159625                    1598.0   \n",
       "3479                 1299579                    1601.0   \n",
       "\n",
       "                               tipo_prima_testimonianza  date_unions     eta  \n",
       "226   Vedovanza#Stato libero di “foresto” #Processet...          NaN    47.0  \n",
       "858                          Stato libero di “foresto”           NaN    44.0  \n",
       "1044               Vedovanza#Stato libero di “foresto”           NaN    32.0  \n",
       "1633                         Stato libero di “foresto”           NaN  1632.0  \n",
       "2638                         Stato libero di “foresto”           NaN    42.0  \n",
       "3479                         Stato libero di “foresto”           NaN    35.0  "
      ]
     },
     "execution_count": 152,
     "metadata": {},
     "output_type": "execute_result"
    }
   ],
   "source": [
    "### Nombre de témoignages par personne\n",
    "pl_df[pl_df['numero_testimonianze']==3]"
   ]
  },
  {
   "cell_type": "markdown",
   "metadata": {},
   "source": [
    "## Nettoyage et codage des données \n",
    "\n",
    "Le tableau produit simplifie et uniformise les données en vue de l'analyse.\n",
    "\n",
    "he lines below define which processetti-type is kept for each person. This is relevant for each entry with multiple processetti-types. For this, there is given a priority to the different types. This priority is the following: a) atipico, b) vedovanza, c) assente, d) libero, e) manca.\n",
    "\n",
    "Below you find an extract of this new table."
   ]
  },
  {
   "cell_type": "code",
   "execution_count": 54,
   "metadata": {},
   "outputs": [
    {
     "data": {
      "text/plain": [
       "array([1689, 1690, 1691, 1692, 1693])"
      ]
     },
     "execution_count": 54,
     "metadata": {},
     "output_type": "execute_result"
    }
   ],
   "source": [
    "### Les années sont définies en fonction des données disponibles. \n",
    "# Si la période est élargie, il faudra étentre la série\n",
    "\n",
    "liste_annees = pd.RangeIndex(1592, 1694).to_series()\n",
    "liste_annees.tail().values"
   ]
  },
  {
   "cell_type": "code",
   "execution_count": 55,
   "metadata": {},
   "outputs": [],
   "source": [
    "##  https://stackoverflow.com/questions/16476924/how-to-iterate-over-rows-in-a-dataframe-in-pandas\n",
    "result_list = []\n",
    "for l in liste_annees:  # [:2]\n",
    "    for (i,row) in pl_df.iterrows():   # .iloc[:100]\n",
    "        # print(l, row['anno_primo_processetto'])\n",
    "        if l == row['anno_primo_processetto']:\n",
    "            if 'atipico' in row['tipo_primo_processetto']:\n",
    "                proc_type = 'atipico'\n",
    "            elif 'Vedovanza' in row['tipo_primo_processetto']:\n",
    "                proc_type = 'vedovanza'\n",
    "            elif 'assente' in row['tipo_primo_processetto']:\n",
    "                proc_type = 'a lungo assente'\n",
    "            elif 'libero' in row['tipo_primo_processetto']:\n",
    "                proc_type = 'stato libero'\n",
    "            else:\n",
    "                proc_type = 'manca'\n",
    "            result_list.append([l, 'richiedente', proc_type, row['genere'], int(row['eta'])])\n",
    "\n",
    "        if l == row['anno_prima_testimonianza']:\n",
    "            if 'atipico' in row['tipo_prima_testimonianza']:\n",
    "                proc_type = 'atipico'\n",
    "            elif 'Vedovanza' in row['tipo_prima_testimonianza']:\n",
    "                proc_type = 'vedovanza'\n",
    "            elif 'assente' in row['tipo_prima_testimonianza']:\n",
    "                proc_type = 'a lungo assente'\n",
    "            elif 'libero' in row['tipo_prima_testimonianza']:\n",
    "                proc_type = 'stato libero'\n",
    "            else:\n",
    "                proc_type = 'manca'\n",
    "\n",
    "            result_list.append([l, 'testimone', proc_type, row['genere'], int(row['eta'])])\n",
    "            \n",
    "                        \n",
    "            "
   ]
  },
  {
   "cell_type": "code",
   "execution_count": 56,
   "metadata": {},
   "outputs": [
    {
     "name": "stdout",
     "output_type": "stream",
     "text": [
      "5491\n"
     ]
    },
    {
     "data": {
      "text/plain": [
       "[[1592, 'testimone', 'atipico', 'Maschile', 34],\n",
       " [1592, 'richiedente', 'atipico', 'Maschile', 26],\n",
       " [1592, 'richiedente', 'stato libero', 'Maschile', 25],\n",
       " [1592, 'richiedente', 'stato libero', 'Maschile', 20],\n",
       " [1592, 'richiedente', 'stato libero', 'Maschile', 26],\n",
       " [1592, 'testimone', 'atipico', 'Maschile', 34],\n",
       " [1592, 'richiedente', 'stato libero', 'Maschile', 22],\n",
       " [1592, 'richiedente', 'stato libero', 'Maschile', 32],\n",
       " [1592, 'testimone', 'stato libero', 'Maschile', 29],\n",
       " [1592, 'richiedente', 'stato libero', 'Maschile', 38]]"
      ]
     },
     "execution_count": 56,
     "metadata": {},
     "output_type": "execute_result"
    }
   ],
   "source": [
    "print(len(result_list))\n",
    "result_list[:10]"
   ]
  },
  {
   "cell_type": "code",
   "execution_count": 57,
   "metadata": {},
   "outputs": [
    {
     "data": {
      "text/html": [
       "<div>\n",
       "<style scoped>\n",
       "    .dataframe tbody tr th:only-of-type {\n",
       "        vertical-align: middle;\n",
       "    }\n",
       "\n",
       "    .dataframe tbody tr th {\n",
       "        vertical-align: top;\n",
       "    }\n",
       "\n",
       "    .dataframe thead th {\n",
       "        text-align: right;\n",
       "    }\n",
       "</style>\n",
       "<table border=\"1\" class=\"dataframe\">\n",
       "  <thead>\n",
       "    <tr style=\"text-align: right;\">\n",
       "      <th></th>\n",
       "      <th>anno</th>\n",
       "      <th>qualita_persona</th>\n",
       "      <th>tipo</th>\n",
       "      <th>genere</th>\n",
       "      <th>eta</th>\n",
       "    </tr>\n",
       "  </thead>\n",
       "  <tbody>\n",
       "    <tr>\n",
       "      <th>1030</th>\n",
       "      <td>1596</td>\n",
       "      <td>richiedente</td>\n",
       "      <td>stato libero</td>\n",
       "      <td>Maschile</td>\n",
       "      <td>20</td>\n",
       "    </tr>\n",
       "    <tr>\n",
       "      <th>1031</th>\n",
       "      <td>1596</td>\n",
       "      <td>testimone</td>\n",
       "      <td>stato libero</td>\n",
       "      <td>Maschile</td>\n",
       "      <td>51</td>\n",
       "    </tr>\n",
       "    <tr>\n",
       "      <th>1032</th>\n",
       "      <td>1596</td>\n",
       "      <td>testimone</td>\n",
       "      <td>stato libero</td>\n",
       "      <td>Maschile</td>\n",
       "      <td>56</td>\n",
       "    </tr>\n",
       "    <tr>\n",
       "      <th>1033</th>\n",
       "      <td>1596</td>\n",
       "      <td>richiedente</td>\n",
       "      <td>vedovanza</td>\n",
       "      <td>Femminile</td>\n",
       "      <td>0</td>\n",
       "    </tr>\n",
       "    <tr>\n",
       "      <th>1034</th>\n",
       "      <td>1596</td>\n",
       "      <td>testimone</td>\n",
       "      <td>vedovanza</td>\n",
       "      <td>Maschile</td>\n",
       "      <td>40</td>\n",
       "    </tr>\n",
       "    <tr>\n",
       "      <th>1035</th>\n",
       "      <td>1596</td>\n",
       "      <td>testimone</td>\n",
       "      <td>vedovanza</td>\n",
       "      <td>Maschile</td>\n",
       "      <td>40</td>\n",
       "    </tr>\n",
       "    <tr>\n",
       "      <th>1036</th>\n",
       "      <td>1596</td>\n",
       "      <td>testimone</td>\n",
       "      <td>vedovanza</td>\n",
       "      <td>Maschile</td>\n",
       "      <td>70</td>\n",
       "    </tr>\n",
       "    <tr>\n",
       "      <th>1037</th>\n",
       "      <td>1596</td>\n",
       "      <td>richiedente</td>\n",
       "      <td>vedovanza</td>\n",
       "      <td>Femminile</td>\n",
       "      <td>0</td>\n",
       "    </tr>\n",
       "    <tr>\n",
       "      <th>1038</th>\n",
       "      <td>1596</td>\n",
       "      <td>testimone</td>\n",
       "      <td>vedovanza</td>\n",
       "      <td>Maschile</td>\n",
       "      <td>56</td>\n",
       "    </tr>\n",
       "    <tr>\n",
       "      <th>1039</th>\n",
       "      <td>1596</td>\n",
       "      <td>testimone</td>\n",
       "      <td>vedovanza</td>\n",
       "      <td>Maschile</td>\n",
       "      <td>50</td>\n",
       "    </tr>\n",
       "  </tbody>\n",
       "</table>\n",
       "</div>"
      ],
      "text/plain": [
       "      anno qualita_persona          tipo     genere  eta\n",
       "1030  1596     richiedente  stato libero   Maschile   20\n",
       "1031  1596       testimone  stato libero   Maschile   51\n",
       "1032  1596       testimone  stato libero   Maschile   56\n",
       "1033  1596     richiedente     vedovanza  Femminile    0\n",
       "1034  1596       testimone     vedovanza   Maschile   40\n",
       "1035  1596       testimone     vedovanza   Maschile   40\n",
       "1036  1596       testimone     vedovanza   Maschile   70\n",
       "1037  1596     richiedente     vedovanza  Femminile    0\n",
       "1038  1596       testimone     vedovanza   Maschile   56\n",
       "1039  1596       testimone     vedovanza   Maschile   50"
      ]
     },
     "execution_count": 57,
     "metadata": {},
     "output_type": "execute_result"
    }
   ],
   "source": [
    "df_result_list = pd.DataFrame(result_list, columns=['anno', 'qualita_persona', 'tipo','genere','eta'])\n",
    "df_result_list.iloc[1030:1040]"
   ]
  },
  {
   "cell_type": "markdown",
   "metadata": {},
   "source": [
    "# Analyse"
   ]
  },
  {
   "cell_type": "markdown",
   "metadata": {},
   "source": [
    "## Effectifs de requérants / témoignages et distribution dans le temps"
   ]
  },
  {
   "cell_type": "markdown",
   "metadata": {},
   "source": [
    "### Effectifs généraux\n",
    "\n",
    "The lines below give insight on how many people are counted as “demanders” (richiedente), respectively as “witness” (testimone)."
   ]
  },
  {
   "cell_type": "code",
   "execution_count": 58,
   "metadata": {},
   "outputs": [
    {
     "data": {
      "text/plain": [
       "1842"
      ]
     },
     "execution_count": 58,
     "metadata": {},
     "output_type": "execute_result"
    }
   ],
   "source": [
    "### Effectif des personnes ayant été objets d'un processetto\n",
    "len(pl_df[pl_df['id_primo_processetto']>0])"
   ]
  },
  {
   "cell_type": "code",
   "execution_count": 59,
   "metadata": {},
   "outputs": [
    {
     "data": {
      "text/plain": [
       "1836"
      ]
     },
     "execution_count": 59,
     "metadata": {},
     "output_type": "execute_result"
    }
   ],
   "source": [
    "### Effectif des personnes ayant été objets d'un processetto\n",
    "len(df_result_list[df_result_list['qualita_persona']=='richiedente'])"
   ]
  },
  {
   "cell_type": "code",
   "execution_count": 60,
   "metadata": {},
   "outputs": [
    {
     "data": {
      "text/plain": [
       "3668"
      ]
     },
     "execution_count": 60,
     "metadata": {},
     "output_type": "execute_result"
    }
   ],
   "source": [
    "### Effectif des personnes ayant témoigné lors d'un processetto\n",
    "len(pl_df[pl_df['id_prima_testimonianza']>0])"
   ]
  },
  {
   "cell_type": "code",
   "execution_count": 61,
   "metadata": {},
   "outputs": [
    {
     "data": {
      "text/plain": [
       "3655"
      ]
     },
     "execution_count": 61,
     "metadata": {},
     "output_type": "execute_result"
    }
   ],
   "source": [
    "### Effectif des personnes ayant été objets d'un processetto\n",
    "len(df_result_list[df_result_list['qualita_persona']=='testimone'])"
   ]
  },
  {
   "cell_type": "markdown",
   "metadata": {},
   "source": [
    "### Distribution dans le temps\n",
    "\n",
    "Nombre de processetti par année"
   ]
  },
  {
   "cell_type": "code",
   "execution_count": 62,
   "metadata": {},
   "outputs": [],
   "source": [
    "rl = df_result_list[(df_result_list['qualita_persona']=='richiedente')&(df_result_list['anno'] < 1640)].groupby('anno').size()\n",
    "# rl.head()"
   ]
  },
  {
   "cell_type": "code",
   "execution_count": 31,
   "metadata": {},
   "outputs": [
    {
     "data": {
      "image/png": "[encoded data removed]",
      "text/plain": [
       "<Figure size 1440x576 with 1 Axes>"
      ]
     },
     "metadata": {
      "needs_background": "light"
     },
     "output_type": "display_data"
    }
   ],
   "source": [
    "g = rl.plot(kind=\"bar\", figsize=(20,8))"
   ]
  },
  {
   "cell_type": "code",
   "execution_count": 72,
   "metadata": {},
   "outputs": [
    {
     "data": {
      "text/html": [
       "<div>\n",
       "<style scoped>\n",
       "    .dataframe tbody tr th:only-of-type {\n",
       "        vertical-align: middle;\n",
       "    }\n",
       "\n",
       "    .dataframe tbody tr th {\n",
       "        vertical-align: top;\n",
       "    }\n",
       "\n",
       "    .dataframe thead th {\n",
       "        text-align: right;\n",
       "    }\n",
       "</style>\n",
       "<table border=\"1\" class=\"dataframe\">\n",
       "  <thead>\n",
       "    <tr style=\"text-align: right;\">\n",
       "      <th></th>\n",
       "      <th>anno</th>\n",
       "      <th>qualita_persona</th>\n",
       "      <th>tipo</th>\n",
       "      <th>genere</th>\n",
       "      <th>eta</th>\n",
       "    </tr>\n",
       "  </thead>\n",
       "  <tbody>\n",
       "    <tr>\n",
       "      <th>282</th>\n",
       "      <td>1592</td>\n",
       "      <td>richiedente</td>\n",
       "      <td>vedovanza</td>\n",
       "      <td>Maschile</td>\n",
       "      <td>0</td>\n",
       "    </tr>\n",
       "    <tr>\n",
       "      <th>284</th>\n",
       "      <td>1592</td>\n",
       "      <td>richiedente</td>\n",
       "      <td>stato libero</td>\n",
       "      <td>Maschile</td>\n",
       "      <td>24</td>\n",
       "    </tr>\n",
       "    <tr>\n",
       "      <th>287</th>\n",
       "      <td>1592</td>\n",
       "      <td>richiedente</td>\n",
       "      <td>stato libero</td>\n",
       "      <td>Maschile</td>\n",
       "      <td>22</td>\n",
       "    </tr>\n",
       "    <tr>\n",
       "      <th>290</th>\n",
       "      <td>1592</td>\n",
       "      <td>richiedente</td>\n",
       "      <td>stato libero</td>\n",
       "      <td>Femminile</td>\n",
       "      <td>0</td>\n",
       "    </tr>\n",
       "    <tr>\n",
       "      <th>293</th>\n",
       "      <td>1592</td>\n",
       "      <td>richiedente</td>\n",
       "      <td>stato libero</td>\n",
       "      <td>Maschile</td>\n",
       "      <td>20</td>\n",
       "    </tr>\n",
       "  </tbody>\n",
       "</table>\n",
       "</div>"
      ],
      "text/plain": [
       "     anno qualita_persona          tipo     genere  eta\n",
       "282  1592     richiedente     vedovanza   Maschile    0\n",
       "284  1592     richiedente  stato libero   Maschile   24\n",
       "287  1592     richiedente  stato libero   Maschile   22\n",
       "290  1592     richiedente  stato libero  Femminile    0\n",
       "293  1592     richiedente  stato libero   Maschile   20"
      ]
     },
     "execution_count": 72,
     "metadata": {},
     "output_type": "execute_result"
    }
   ],
   "source": [
    "filtered_df = df_result_list[(df_result_list['genere'] != 'missing')&(df_result_list['genere'] !='Machile')\\\n",
    "                   & (df_result_list['anno'] < 1610) & (df_result_list['qualita_persona'] == 'richiedente')]\n",
    "filtered_df.iloc[100:105]"
   ]
  },
  {
   "cell_type": "code",
   "execution_count": 73,
   "metadata": {},
   "outputs": [
    {
     "data": {
      "text/plain": [
       "count    1836.000000\n",
       "mean     1600.091503\n",
       "std         7.657470\n",
       "min      1592.000000\n",
       "25%      1597.000000\n",
       "50%      1598.000000\n",
       "75%      1602.000000\n",
       "max      1693.000000\n",
       "Name: anno, dtype: float64"
      ]
     },
     "execution_count": 73,
     "metadata": {},
     "output_type": "execute_result"
    }
   ],
   "source": [
    "### Valeurs de centralité et dispersion pour le temps\n",
    "df_result_list[df_result_list['qualita_persona']=='richiedente']['anno'].describe()"
   ]
  },
  {
   "cell_type": "markdown",
   "metadata": {
    "tags": []
   },
   "source": [
    "## Distribution des genres"
   ]
  },
  {
   "cell_type": "code",
   "execution_count": 74,
   "metadata": {},
   "outputs": [
    {
     "data": {
      "text/plain": [
       "genere\n",
       "Maschile     4904\n",
       "Femminile     577\n",
       "missing         9\n",
       "Machile         1\n",
       "dtype: int64"
      ]
     },
     "execution_count": 74,
     "metadata": {},
     "output_type": "execute_result"
    }
   ],
   "source": [
    "a = df_result_list.groupby('genere').size()\n",
    "a.sort_values(ascending = False)"
   ]
  },
  {
   "cell_type": "code",
   "execution_count": 78,
   "metadata": {},
   "outputs": [
    {
     "data": {
      "text/plain": [
       "[10.525355709595038, 0.018241517694272163, 89.45640277271069]"
      ]
     },
     "execution_count": 78,
     "metadata": {},
     "output_type": "execute_result"
    }
   ],
   "source": [
    "### Proportion des genres dans la population\n",
    "a = df_result_list[(df_result_list['genere'] != 'missing')].groupby('genere').size()\n",
    "[v/sum(a.values)*100 for v in a.values]"
   ]
  },
  {
   "cell_type": "code",
   "execution_count": 85,
   "metadata": {},
   "outputs": [
    {
     "data": {
      "text/plain": [
       "['Femminile', 'missing', 'Machile', 'Maschile']"
      ]
     },
     "execution_count": 85,
     "metadata": {},
     "output_type": "execute_result"
    }
   ],
   "source": [
    "### Modalités – il y a une erreur de saisie\n",
    "\n",
    "list(set(df_result_list['genere']))"
   ]
  },
  {
   "cell_type": "code",
   "execution_count": 75,
   "metadata": {
    "tags": []
   },
   "outputs": [
    {
     "data": {
      "text/plain": [
       "genere\n",
       "Maschile     1405\n",
       "Femminile     430\n",
       "missing         1\n",
       "dtype: int64"
      ]
     },
     "execution_count": 75,
     "metadata": {},
     "output_type": "execute_result"
    }
   ],
   "source": [
    "a = df_result_list[df_result_list['qualita_persona']=='richiedente'].groupby('genere').size()\n",
    "a.sort_values(ascending = False)"
   ]
  },
  {
   "cell_type": "code",
   "execution_count": 76,
   "metadata": {},
   "outputs": [
    {
     "data": {
      "text/plain": [
       "genere\n",
       "Maschile     1290\n",
       "Femminile     272\n",
       "missing         1\n",
       "dtype: int64"
      ]
     },
     "execution_count": 76,
     "metadata": {},
     "output_type": "execute_result"
    }
   ],
   "source": [
    "a = df_result_list[(df_result_list['qualita_persona']=='richiedente')&(df_result_list['tipo']=='stato libero')].groupby('genere').size()\n",
    "a.sort_values(ascending = False)"
   ]
  },
  {
   "cell_type": "code",
   "execution_count": 77,
   "metadata": {},
   "outputs": [
    {
     "data": {
      "text/plain": [
       "genere\n",
       "Maschile     3499\n",
       "Femminile     147\n",
       "missing         8\n",
       "Machile         1\n",
       "dtype: int64"
      ]
     },
     "execution_count": 77,
     "metadata": {},
     "output_type": "execute_result"
    }
   ],
   "source": [
    "a = df_result_list[(df_result_list['qualita_persona']=='testimone')].groupby('genere').size()\n",
    "a.sort_values(ascending = False)"
   ]
  },
  {
   "cell_type": "code",
   "execution_count": 80,
   "metadata": {},
   "outputs": [
    {
     "data": {
      "image/png": "[encoded data removed]",
      "text/plain": [
       "<Figure size 864x216 with 1 Axes>"
      ]
     },
     "metadata": {
      "needs_background": "light"
     },
     "output_type": "display_data"
    }
   ],
   "source": [
    "### https://seaborn.pydata.org/generated/seaborn.violinplot.html\n",
    "ax = sns.catplot(kind=\"box\", x=\"anno\", y=\"genere\", orient=\"h\", height=3,aspect=4, \n",
    "                    data=filtered_df\\\n",
    "                 , palette=['lightblue','violet'])"
   ]
  },
  {
   "cell_type": "code",
   "execution_count": 81,
   "metadata": {},
   "outputs": [
    {
     "data": {
      "image/png": "[encoded data removed]",
      "text/plain": [
       "<Figure size 864x288 with 1 Axes>"
      ]
     },
     "metadata": {
      "needs_background": "light"
     },
     "output_type": "display_data"
    }
   ],
   "source": [
    "### https://seaborn.pydata.org/generated/seaborn.violinplot.html\n",
    "ax = sns.catplot(kind=\"violin\", x=\"anno\", y=\"genere\", orient=\"h\", height=4,aspect=3, \n",
    "                    data=filtered_df\\\n",
    "                 , palette=['lightblue','violet'], split=True)"
   ]
  },
  {
   "cell_type": "code",
   "execution_count": 82,
   "metadata": {},
   "outputs": [
    {
     "data": {
      "text/plain": [
       "genere\n",
       "Femminile     398\n",
       "Maschile     1332\n",
       "dtype: int64"
      ]
     },
     "execution_count": 82,
     "metadata": {},
     "output_type": "execute_result"
    }
   ],
   "source": [
    "### Effectifs des hommes et des femmes\n",
    "filtered_df.groupby('genere').size()"
   ]
  },
  {
   "cell_type": "code",
   "execution_count": 83,
   "metadata": {},
   "outputs": [
    {
     "data": {
      "text/plain": [
       "(0.7699421965317919, 0.2300578034682081)"
      ]
     },
     "execution_count": 83,
     "metadata": {},
     "output_type": "execute_result"
    }
   ],
   "source": [
    "genere_effectif = filtered_df['genere'].value_counts().values\n",
    "m_freq = genere_effectif[0]/sum(genere_effectif)\n",
    "f_freq = genere_effectif[1]/sum(genere_effectif)\n",
    "m_freq, f_freq"
   ]
  },
  {
   "cell_type": "code",
   "execution_count": 84,
   "metadata": {},
   "outputs": [],
   "source": [
    "filtered_df_m = df_result_list[(df_result_list['genere'] == 'Maschile')\\\n",
    "                   & (df_result_list['anno'] < 1610) & (df_result_list['qualita_persona'] == 'richiedente')]\n",
    "# filtered_df_m"
   ]
  },
  {
   "cell_type": "code",
   "execution_count": 45,
   "metadata": {},
   "outputs": [],
   "source": [
    "filtered_df_f = df_result_list[(df_result_list['genere'] == 'Femminile')\\\n",
    "                   & (df_result_list['anno'] < 1610) & (df_result_list['qualita_persona'] == 'richiedente')]\n",
    "# filtered_df_f"
   ]
  },
  {
   "cell_type": "code",
   "execution_count": 86,
   "metadata": {},
   "outputs": [
    {
     "data": {
      "image/png": "[encoded data removed]",
      "text/plain": [
       "<Figure size 1440x432 with 1 Axes>"
      ]
     },
     "metadata": {
      "needs_background": "light"
     },
     "output_type": "display_data"
    }
   ],
   "source": [
    "### Séparer et comparer les requérants hommes et femmes\n",
    "##  https://stackoverflow.com/questions/39013425/multiple-stacked-bar-plot-with-pandas\n",
    "## Voir aussi : https://stackoverflow.com/questions/22787209/how-to-have-clusters-of-stacked-bars-with-python-pandas\n",
    "\n",
    "fig, ax = plt.subplots(figsize=(20,6))\n",
    "\n",
    "sns.violinplot(x=\"anno\", y=\"genere\", orient=\"h\", height=4,aspect=3, width = m_freq,\n",
    "                    data=filtered_df_m\\\n",
    "                 , color='lightblue', ax=ax, split=True)\n",
    "sns.violinplot(x=\"anno\", y=\"genere\", orient=\"h\", height=4,aspect=3, width = f_freq,\n",
    "                    data=filtered_df_f\\\n",
    "                 ,ax=ax, split=True, color='violet')\n",
    "\n",
    "plt.xticks(rotation=45)\n",
    "plt.show()"
   ]
  },
  {
   "cell_type": "code",
   "execution_count": 87,
   "metadata": {},
   "outputs": [
    {
     "data": {
      "text/html": [
       "<div>\n",
       "<style scoped>\n",
       "    .dataframe tbody tr th:only-of-type {\n",
       "        vertical-align: middle;\n",
       "    }\n",
       "\n",
       "    .dataframe tbody tr th {\n",
       "        vertical-align: top;\n",
       "    }\n",
       "\n",
       "    .dataframe thead th {\n",
       "        text-align: right;\n",
       "    }\n",
       "</style>\n",
       "<table border=\"1\" class=\"dataframe\">\n",
       "  <thead>\n",
       "    <tr style=\"text-align: right;\">\n",
       "      <th>genere</th>\n",
       "      <th>Femminile</th>\n",
       "      <th>Maschile</th>\n",
       "    </tr>\n",
       "    <tr>\n",
       "      <th>anno</th>\n",
       "      <th></th>\n",
       "      <th></th>\n",
       "    </tr>\n",
       "  </thead>\n",
       "  <tbody>\n",
       "    <tr>\n",
       "      <th>1592</th>\n",
       "      <td>25</td>\n",
       "      <td>92</td>\n",
       "    </tr>\n",
       "    <tr>\n",
       "      <th>1593</th>\n",
       "      <td>0</td>\n",
       "      <td>2</td>\n",
       "    </tr>\n",
       "    <tr>\n",
       "      <th>1594</th>\n",
       "      <td>41</td>\n",
       "      <td>135</td>\n",
       "    </tr>\n",
       "    <tr>\n",
       "      <th>1595</th>\n",
       "      <td>0</td>\n",
       "      <td>1</td>\n",
       "    </tr>\n",
       "    <tr>\n",
       "      <th>1596</th>\n",
       "      <td>31</td>\n",
       "      <td>98</td>\n",
       "    </tr>\n",
       "    <tr>\n",
       "      <th>1597</th>\n",
       "      <td>68</td>\n",
       "      <td>162</td>\n",
       "    </tr>\n",
       "    <tr>\n",
       "      <th>1598</th>\n",
       "      <td>65</td>\n",
       "      <td>199</td>\n",
       "    </tr>\n",
       "    <tr>\n",
       "      <th>1599</th>\n",
       "      <td>67</td>\n",
       "      <td>170</td>\n",
       "    </tr>\n",
       "    <tr>\n",
       "      <th>1600</th>\n",
       "      <td>13</td>\n",
       "      <td>92</td>\n",
       "    </tr>\n",
       "    <tr>\n",
       "      <th>1601</th>\n",
       "      <td>2</td>\n",
       "      <td>37</td>\n",
       "    </tr>\n",
       "    <tr>\n",
       "      <th>1602</th>\n",
       "      <td>36</td>\n",
       "      <td>148</td>\n",
       "    </tr>\n",
       "    <tr>\n",
       "      <th>1603</th>\n",
       "      <td>28</td>\n",
       "      <td>115</td>\n",
       "    </tr>\n",
       "    <tr>\n",
       "      <th>1604</th>\n",
       "      <td>22</td>\n",
       "      <td>80</td>\n",
       "    </tr>\n",
       "    <tr>\n",
       "      <th>1605</th>\n",
       "      <td>0</td>\n",
       "      <td>1</td>\n",
       "    </tr>\n",
       "  </tbody>\n",
       "</table>\n",
       "</div>"
      ],
      "text/plain": [
       "genere  Femminile  Maschile\n",
       "anno                       \n",
       "1592           25        92\n",
       "1593            0         2\n",
       "1594           41       135\n",
       "1595            0         1\n",
       "1596           31        98\n",
       "1597           68       162\n",
       "1598           65       199\n",
       "1599           67       170\n",
       "1600           13        92\n",
       "1601            2        37\n",
       "1602           36       148\n",
       "1603           28       115\n",
       "1604           22        80\n",
       "1605            0         1"
      ]
     },
     "execution_count": 87,
     "metadata": {},
     "output_type": "execute_result"
    }
   ],
   "source": [
    "pt = filtered_df[['anno', 'genere']].pivot_table(index='anno',columns='genere',aggfunc=len).fillna(0).astype(int) \n",
    "pt"
   ]
  },
  {
   "cell_type": "code",
   "execution_count": 88,
   "metadata": {},
   "outputs": [
    {
     "data": {
      "image/png": "[encoded data removed]",
      "text/plain": [
       "<Figure size 1152x576 with 1 Axes>"
      ]
     },
     "metadata": {
      "needs_background": "light"
     },
     "output_type": "display_data"
    }
   ],
   "source": [
    "p = pt.plot.bar(figsize=(16,8), color=['violet','lightblue'])"
   ]
  },
  {
   "cell_type": "code",
   "execution_count": 89,
   "metadata": {
    "tags": []
   },
   "outputs": [],
   "source": [
    "pt_prop = pt.apply(lambda x: x*100/sum(x), axis=1)\n",
    "# pt_prop"
   ]
  },
  {
   "cell_type": "code",
   "execution_count": 90,
   "metadata": {},
   "outputs": [
    {
     "data": {
      "image/png": "[encoded data removed]",
      "text/plain": [
       "<Figure size 1152x576 with 1 Axes>"
      ]
     },
     "metadata": {
      "needs_background": "light"
     },
     "output_type": "display_data"
    }
   ],
   "source": [
    "p = pt_prop.plot.bar(figsize=(16,8), color=['violet','lightblue'], stacked=True)"
   ]
  },
  {
   "cell_type": "code",
   "execution_count": null,
   "metadata": {},
   "outputs": [],
   "source": []
  },
  {
   "cell_type": "markdown",
   "metadata": {},
   "source": [
    "## Comparer types de processetti et genre"
   ]
  },
  {
   "cell_type": "code",
   "execution_count": 102,
   "metadata": {},
   "outputs": [
    {
     "data": {
      "text/html": [
       "<div>\n",
       "<style scoped>\n",
       "    .dataframe tbody tr th:only-of-type {\n",
       "        vertical-align: middle;\n",
       "    }\n",
       "\n",
       "    .dataframe tbody tr th {\n",
       "        vertical-align: top;\n",
       "    }\n",
       "\n",
       "    .dataframe thead th {\n",
       "        text-align: right;\n",
       "    }\n",
       "</style>\n",
       "<table border=\"1\" class=\"dataframe\">\n",
       "  <thead>\n",
       "    <tr style=\"text-align: right;\">\n",
       "      <th>genere</th>\n",
       "      <th>Femminile</th>\n",
       "      <th>Maschile</th>\n",
       "    </tr>\n",
       "    <tr>\n",
       "      <th>tipo</th>\n",
       "      <th></th>\n",
       "      <th></th>\n",
       "    </tr>\n",
       "  </thead>\n",
       "  <tbody>\n",
       "    <tr>\n",
       "      <th>a lungo assente</th>\n",
       "      <td>1</td>\n",
       "      <td>13</td>\n",
       "    </tr>\n",
       "    <tr>\n",
       "      <th>atipico</th>\n",
       "      <td>15</td>\n",
       "      <td>18</td>\n",
       "    </tr>\n",
       "    <tr>\n",
       "      <th>stato libero</th>\n",
       "      <td>248</td>\n",
       "      <td>1236</td>\n",
       "    </tr>\n",
       "    <tr>\n",
       "      <th>vedovanza</th>\n",
       "      <td>134</td>\n",
       "      <td>65</td>\n",
       "    </tr>\n",
       "  </tbody>\n",
       "</table>\n",
       "</div>"
      ],
      "text/plain": [
       "genere           Femminile  Maschile\n",
       "tipo                                \n",
       "a lungo assente          1        13\n",
       "atipico                 15        18\n",
       "stato libero           248      1236\n",
       "vedovanza              134        65"
      ]
     },
     "execution_count": 102,
     "metadata": {},
     "output_type": "execute_result"
    }
   ],
   "source": [
    "tt = filtered_df[['tipo', 'genere']].pivot_table(index='tipo',columns='genere',aggfunc=len).fillna(0).astype(int) \n",
    "tt"
   ]
  },
  {
   "cell_type": "code",
   "execution_count": 103,
   "metadata": {},
   "outputs": [
    {
     "data": {
      "image/png": "[encoded data removed]",
      "text/plain": [
       "<Figure size 1440x576 with 1 Axes>"
      ]
     },
     "metadata": {
      "needs_background": "light"
     },
     "output_type": "display_data"
    }
   ],
   "source": [
    "p = tt.plot(kind=\"bar\", stacked=\"true\", figsize=(20,8), color=['violet','lightblue'])"
   ]
  },
  {
   "cell_type": "code",
   "execution_count": 93,
   "metadata": {
    "tags": []
   },
   "outputs": [
    {
     "data": {
      "text/html": [
       "<div>\n",
       "<style scoped>\n",
       "    .dataframe tbody tr th:only-of-type {\n",
       "        vertical-align: middle;\n",
       "    }\n",
       "\n",
       "    .dataframe tbody tr th {\n",
       "        vertical-align: top;\n",
       "    }\n",
       "\n",
       "    .dataframe thead th {\n",
       "        text-align: right;\n",
       "    }\n",
       "</style>\n",
       "<table border=\"1\" class=\"dataframe\">\n",
       "  <thead>\n",
       "    <tr style=\"text-align: right;\">\n",
       "      <th>genere</th>\n",
       "      <th>Femminile</th>\n",
       "      <th>Maschile</th>\n",
       "    </tr>\n",
       "    <tr>\n",
       "      <th>tipo</th>\n",
       "      <th></th>\n",
       "      <th></th>\n",
       "    </tr>\n",
       "  </thead>\n",
       "  <tbody>\n",
       "    <tr>\n",
       "      <th>a lungo assente</th>\n",
       "      <td>7.142857</td>\n",
       "      <td>92.857143</td>\n",
       "    </tr>\n",
       "    <tr>\n",
       "      <th>atipico</th>\n",
       "      <td>45.454545</td>\n",
       "      <td>54.545455</td>\n",
       "    </tr>\n",
       "    <tr>\n",
       "      <th>stato libero</th>\n",
       "      <td>16.711590</td>\n",
       "      <td>83.288410</td>\n",
       "    </tr>\n",
       "    <tr>\n",
       "      <th>vedovanza</th>\n",
       "      <td>67.336683</td>\n",
       "      <td>32.663317</td>\n",
       "    </tr>\n",
       "  </tbody>\n",
       "</table>\n",
       "</div>"
      ],
      "text/plain": [
       "genere           Femminile   Maschile\n",
       "tipo                                 \n",
       "a lungo assente   7.142857  92.857143\n",
       "atipico          45.454545  54.545455\n",
       "stato libero     16.711590  83.288410\n",
       "vedovanza        67.336683  32.663317"
      ]
     },
     "execution_count": 93,
     "metadata": {},
     "output_type": "execute_result"
    }
   ],
   "source": [
    "tt_prop = tt.apply(lambda x: x*100/sum(x), axis=1)\n",
    "tt_prop"
   ]
  },
  {
   "cell_type": "code",
   "execution_count": 94,
   "metadata": {},
   "outputs": [
    {
     "data": {
      "image/png": "[encoded data removed]",
      "text/plain": [
       "<Figure size 1440x576 with 1 Axes>"
      ]
     },
     "metadata": {
      "needs_background": "light"
     },
     "output_type": "display_data"
    }
   ],
   "source": [
    "p = tt_prop.plot(kind=\"bar\", stacked=\"true\", figsize=(20,8), color=['violet','lightblue'])"
   ]
  },
  {
   "cell_type": "markdown",
   "metadata": {},
   "source": [
    "### En ajoutant la dimension temporelle"
   ]
  },
  {
   "cell_type": "code",
   "execution_count": 95,
   "metadata": {},
   "outputs": [
    {
     "data": {
      "image/png": "[encoded data removed]",
      "text/plain": [
       "<Figure size 951.75x288 with 1 Axes>"
      ]
     },
     "metadata": {
      "needs_background": "light"
     },
     "output_type": "display_data"
    }
   ],
   "source": [
    "ax = sns.catplot(x=\"anno\", y=\"tipo\", hue=\"genere\",\n",
    "\n",
    "                    data=filtered_df, \n",
    "                    orient=\"h\", height=4, aspect=3, kind=\"box\",  palette=['lightblue','violet'])\n",
    "# dodge=True,"
   ]
  },
  {
   "cell_type": "code",
   "execution_count": 96,
   "metadata": {},
   "outputs": [
    {
     "data": {
      "image/png": "[encoded data removed]",
      "text/plain": [
       "<Figure size 1167.75x360 with 1 Axes>"
      ]
     },
     "metadata": {
      "needs_background": "light"
     },
     "output_type": "display_data"
    }
   ],
   "source": [
    "ax = sns.catplot(x=\"anno\", y=\"tipo\", hue=\"genere\",  # hue=\"qualita_persona\", genere\n",
    "                    data=filtered_df, orient=\"h\", height=5, aspect=3,\n",
    "                kind=\"violin\",  bw=.3, palette=['lightblue','violet'], split=True)\n",
    "# dodge=True,"
   ]
  },
  {
   "cell_type": "code",
   "execution_count": null,
   "metadata": {},
   "outputs": [],
   "source": []
  },
  {
   "cell_type": "markdown",
   "metadata": {},
   "source": [
    "## Regrouper les _Processetti_ par type et age\n",
    "\n",
    "The lines below explore the distribution of “age” at the moment of the processetto according to the different types of processetto (first chart).\n",
    "\n",
    "In a second part, the different persons are grouped in age brackets of 5 years (lustro) in order to make the analysis more easily interpretable (second chart)."
   ]
  },
  {
   "cell_type": "code",
   "execution_count": 104,
   "metadata": {},
   "outputs": [
    {
     "data": {
      "text/html": [
       "<div>\n",
       "<style scoped>\n",
       "    .dataframe tbody tr th:only-of-type {\n",
       "        vertical-align: middle;\n",
       "    }\n",
       "\n",
       "    .dataframe tbody tr th {\n",
       "        vertical-align: top;\n",
       "    }\n",
       "\n",
       "    .dataframe thead th {\n",
       "        text-align: right;\n",
       "    }\n",
       "</style>\n",
       "<table border=\"1\" class=\"dataframe\">\n",
       "  <thead>\n",
       "    <tr style=\"text-align: right;\">\n",
       "      <th>tipo</th>\n",
       "      <th>a lungo assente</th>\n",
       "      <th>atipico</th>\n",
       "      <th>stato libero</th>\n",
       "      <th>vedovanza</th>\n",
       "    </tr>\n",
       "    <tr>\n",
       "      <th>eta</th>\n",
       "      <th></th>\n",
       "      <th></th>\n",
       "      <th></th>\n",
       "      <th></th>\n",
       "    </tr>\n",
       "  </thead>\n",
       "  <tbody>\n",
       "    <tr>\n",
       "      <th>15</th>\n",
       "      <td>0</td>\n",
       "      <td>0</td>\n",
       "      <td>3</td>\n",
       "      <td>0</td>\n",
       "    </tr>\n",
       "    <tr>\n",
       "      <th>16</th>\n",
       "      <td>0</td>\n",
       "      <td>0</td>\n",
       "      <td>10</td>\n",
       "      <td>0</td>\n",
       "    </tr>\n",
       "    <tr>\n",
       "      <th>17</th>\n",
       "      <td>0</td>\n",
       "      <td>0</td>\n",
       "      <td>13</td>\n",
       "      <td>0</td>\n",
       "    </tr>\n",
       "    <tr>\n",
       "      <th>18</th>\n",
       "      <td>2</td>\n",
       "      <td>0</td>\n",
       "      <td>27</td>\n",
       "      <td>0</td>\n",
       "    </tr>\n",
       "    <tr>\n",
       "      <th>19</th>\n",
       "      <td>1</td>\n",
       "      <td>2</td>\n",
       "      <td>55</td>\n",
       "      <td>0</td>\n",
       "    </tr>\n",
       "    <tr>\n",
       "      <th>20</th>\n",
       "      <td>0</td>\n",
       "      <td>1</td>\n",
       "      <td>91</td>\n",
       "      <td>0</td>\n",
       "    </tr>\n",
       "    <tr>\n",
       "      <th>21</th>\n",
       "      <td>2</td>\n",
       "      <td>1</td>\n",
       "      <td>97</td>\n",
       "      <td>0</td>\n",
       "    </tr>\n",
       "    <tr>\n",
       "      <th>22</th>\n",
       "      <td>0</td>\n",
       "      <td>1</td>\n",
       "      <td>110</td>\n",
       "      <td>0</td>\n",
       "    </tr>\n",
       "    <tr>\n",
       "      <th>23</th>\n",
       "      <td>2</td>\n",
       "      <td>1</td>\n",
       "      <td>93</td>\n",
       "      <td>0</td>\n",
       "    </tr>\n",
       "    <tr>\n",
       "      <th>24</th>\n",
       "      <td>1</td>\n",
       "      <td>1</td>\n",
       "      <td>150</td>\n",
       "      <td>0</td>\n",
       "    </tr>\n",
       "    <tr>\n",
       "      <th>25</th>\n",
       "      <td>1</td>\n",
       "      <td>1</td>\n",
       "      <td>112</td>\n",
       "      <td>0</td>\n",
       "    </tr>\n",
       "    <tr>\n",
       "      <th>26</th>\n",
       "      <td>3</td>\n",
       "      <td>1</td>\n",
       "      <td>104</td>\n",
       "      <td>0</td>\n",
       "    </tr>\n",
       "    <tr>\n",
       "      <th>27</th>\n",
       "      <td>2</td>\n",
       "      <td>2</td>\n",
       "      <td>71</td>\n",
       "      <td>1</td>\n",
       "    </tr>\n",
       "    <tr>\n",
       "      <th>28</th>\n",
       "      <td>1</td>\n",
       "      <td>3</td>\n",
       "      <td>97</td>\n",
       "      <td>0</td>\n",
       "    </tr>\n",
       "    <tr>\n",
       "      <th>29</th>\n",
       "      <td>1</td>\n",
       "      <td>0</td>\n",
       "      <td>47</td>\n",
       "      <td>0</td>\n",
       "    </tr>\n",
       "    <tr>\n",
       "      <th>30</th>\n",
       "      <td>2</td>\n",
       "      <td>1</td>\n",
       "      <td>92</td>\n",
       "      <td>2</td>\n",
       "    </tr>\n",
       "    <tr>\n",
       "      <th>31</th>\n",
       "      <td>1</td>\n",
       "      <td>0</td>\n",
       "      <td>34</td>\n",
       "      <td>0</td>\n",
       "    </tr>\n",
       "    <tr>\n",
       "      <th>32</th>\n",
       "      <td>2</td>\n",
       "      <td>0</td>\n",
       "      <td>32</td>\n",
       "      <td>2</td>\n",
       "    </tr>\n",
       "    <tr>\n",
       "      <th>33</th>\n",
       "      <td>0</td>\n",
       "      <td>0</td>\n",
       "      <td>29</td>\n",
       "      <td>2</td>\n",
       "    </tr>\n",
       "  </tbody>\n",
       "</table>\n",
       "</div>"
      ],
      "text/plain": [
       "tipo  a lungo assente  atipico  stato libero  vedovanza\n",
       "eta                                                    \n",
       "15                  0        0             3          0\n",
       "16                  0        0            10          0\n",
       "17                  0        0            13          0\n",
       "18                  2        0            27          0\n",
       "19                  1        2            55          0\n",
       "20                  0        1            91          0\n",
       "21                  2        1            97          0\n",
       "22                  0        1           110          0\n",
       "23                  2        1            93          0\n",
       "24                  1        1           150          0\n",
       "25                  1        1           112          0\n",
       "26                  3        1           104          0\n",
       "27                  2        2            71          1\n",
       "28                  1        3            97          0\n",
       "29                  1        0            47          0\n",
       "30                  2        1            92          2\n",
       "31                  1        0            34          0\n",
       "32                  2        0            32          2\n",
       "33                  0        0            29          2"
      ]
     },
     "execution_count": 104,
     "metadata": {},
     "output_type": "execute_result"
    }
   ],
   "source": [
    "### Tableau de contingence age-type Processetto\n",
    "# pour les personnes objet de l'enquête\n",
    "\n",
    "X = \"eta\"  \n",
    "Y = \"tipo\"\n",
    "\n",
    "anno_tipo = df_result_list[(df_result_list['qualita_persona']=='richiedente')&(df_result_list['eta']>12)&(df_result_list['eta']<100)][[X,Y]].pivot_table(index=X,columns=Y,aggfunc=len).fillna(0).astype(int) \n",
    "anno_tipo.iloc[1:20]"
   ]
  },
  {
   "cell_type": "code",
   "execution_count": 153,
   "metadata": {},
   "outputs": [
    {
     "data": {
      "image/png": "[encoded data removed]",
      "text/plain": [
       "<Figure size 1440x576 with 1 Axes>"
      ]
     },
     "metadata": {
      "needs_background": "light"
     },
     "output_type": "display_data"
    }
   ],
   "source": [
    "axis = anno_tipo.plot(kind=\"bar\", stacked=\"true\", figsize=(20,8), colormap=\"coolwarm\")\n"
   ]
  },
  {
   "cell_type": "code",
   "execution_count": 106,
   "metadata": {
    "tags": []
   },
   "outputs": [],
   "source": [
    "### Créer la liste des périodes de 5 ans, i.e. la liste de la première année de chaque période\n",
    "a5List = []\n",
    "period = 5\n",
    "d_start = 6\n",
    "i = 0\n",
    "a5List.append(d_start)\n",
    "\n",
    "while i < 19:\n",
    "    d_start = d_start + period\n",
    "    a5List.append(d_start)\n",
    "    i += 1"
   ]
  },
  {
   "cell_type": "code",
   "execution_count": 107,
   "metadata": {},
   "outputs": [
    {
     "name": "stdout",
     "output_type": "stream",
     "text": [
      "[6, 11]\n"
     ]
    },
    {
     "data": {
      "text/plain": [
       "(6, 101)"
      ]
     },
     "execution_count": 107,
     "metadata": {},
     "output_type": "execute_result"
    }
   ],
   "source": [
    "print(a5List[:2])\n",
    "min(a5List), max(a5List)"
   ]
  },
  {
   "cell_type": "code",
   "execution_count": 108,
   "metadata": {},
   "outputs": [
    {
     "data": {
      "text/html": [
       "<div>\n",
       "<style scoped>\n",
       "    .dataframe tbody tr th:only-of-type {\n",
       "        vertical-align: middle;\n",
       "    }\n",
       "\n",
       "    .dataframe tbody tr th {\n",
       "        vertical-align: top;\n",
       "    }\n",
       "\n",
       "    .dataframe thead th {\n",
       "        text-align: right;\n",
       "    }\n",
       "</style>\n",
       "<table border=\"1\" class=\"dataframe\">\n",
       "  <thead>\n",
       "    <tr style=\"text-align: right;\">\n",
       "      <th></th>\n",
       "      <th>anno</th>\n",
       "      <th>qualita_persona</th>\n",
       "      <th>tipo</th>\n",
       "      <th>genere</th>\n",
       "      <th>eta</th>\n",
       "      <th>lustro</th>\n",
       "    </tr>\n",
       "  </thead>\n",
       "  <tbody>\n",
       "    <tr>\n",
       "      <th>0</th>\n",
       "      <td>1592</td>\n",
       "      <td>testimone</td>\n",
       "      <td>atipico</td>\n",
       "      <td>Maschile</td>\n",
       "      <td>34</td>\n",
       "      <td>[31.0, 36.0)</td>\n",
       "    </tr>\n",
       "    <tr>\n",
       "      <th>1</th>\n",
       "      <td>1592</td>\n",
       "      <td>richiedente</td>\n",
       "      <td>atipico</td>\n",
       "      <td>Maschile</td>\n",
       "      <td>26</td>\n",
       "      <td>[26.0, 31.0)</td>\n",
       "    </tr>\n",
       "    <tr>\n",
       "      <th>2</th>\n",
       "      <td>1592</td>\n",
       "      <td>richiedente</td>\n",
       "      <td>stato libero</td>\n",
       "      <td>Maschile</td>\n",
       "      <td>25</td>\n",
       "      <td>[21.0, 26.0)</td>\n",
       "    </tr>\n",
       "    <tr>\n",
       "      <th>3</th>\n",
       "      <td>1592</td>\n",
       "      <td>richiedente</td>\n",
       "      <td>stato libero</td>\n",
       "      <td>Maschile</td>\n",
       "      <td>20</td>\n",
       "      <td>[16.0, 21.0)</td>\n",
       "    </tr>\n",
       "    <tr>\n",
       "      <th>4</th>\n",
       "      <td>1592</td>\n",
       "      <td>richiedente</td>\n",
       "      <td>stato libero</td>\n",
       "      <td>Maschile</td>\n",
       "      <td>26</td>\n",
       "      <td>[26.0, 31.0)</td>\n",
       "    </tr>\n",
       "    <tr>\n",
       "      <th>...</th>\n",
       "      <td>...</td>\n",
       "      <td>...</td>\n",
       "      <td>...</td>\n",
       "      <td>...</td>\n",
       "      <td>...</td>\n",
       "      <td>...</td>\n",
       "    </tr>\n",
       "    <tr>\n",
       "      <th>5486</th>\n",
       "      <td>1628</td>\n",
       "      <td>richiedente</td>\n",
       "      <td>stato libero</td>\n",
       "      <td>Femminile</td>\n",
       "      <td>0</td>\n",
       "      <td>NaN</td>\n",
       "    </tr>\n",
       "    <tr>\n",
       "      <th>5487</th>\n",
       "      <td>1628</td>\n",
       "      <td>testimone</td>\n",
       "      <td>stato libero</td>\n",
       "      <td>Maschile</td>\n",
       "      <td>39</td>\n",
       "      <td>[36.0, 41.0)</td>\n",
       "    </tr>\n",
       "    <tr>\n",
       "      <th>5488</th>\n",
       "      <td>1693</td>\n",
       "      <td>richiedente</td>\n",
       "      <td>stato libero</td>\n",
       "      <td>Maschile</td>\n",
       "      <td>117</td>\n",
       "      <td>NaN</td>\n",
       "    </tr>\n",
       "    <tr>\n",
       "      <th>5489</th>\n",
       "      <td>1693</td>\n",
       "      <td>testimone</td>\n",
       "      <td>stato libero</td>\n",
       "      <td>Maschile</td>\n",
       "      <td>126</td>\n",
       "      <td>NaN</td>\n",
       "    </tr>\n",
       "    <tr>\n",
       "      <th>5490</th>\n",
       "      <td>1693</td>\n",
       "      <td>testimone</td>\n",
       "      <td>stato libero</td>\n",
       "      <td>Maschile</td>\n",
       "      <td>140</td>\n",
       "      <td>NaN</td>\n",
       "    </tr>\n",
       "  </tbody>\n",
       "</table>\n",
       "<p>5491 rows × 6 columns</p>\n",
       "</div>"
      ],
      "text/plain": [
       "      anno qualita_persona          tipo     genere  eta        lustro\n",
       "0     1592       testimone       atipico   Maschile   34  [31.0, 36.0)\n",
       "1     1592     richiedente       atipico   Maschile   26  [26.0, 31.0)\n",
       "2     1592     richiedente  stato libero   Maschile   25  [21.0, 26.0)\n",
       "3     1592     richiedente  stato libero   Maschile   20  [16.0, 21.0)\n",
       "4     1592     richiedente  stato libero   Maschile   26  [26.0, 31.0)\n",
       "...    ...             ...           ...        ...  ...           ...\n",
       "5486  1628     richiedente  stato libero  Femminile    0           NaN\n",
       "5487  1628       testimone  stato libero   Maschile   39  [36.0, 41.0)\n",
       "5488  1693     richiedente  stato libero   Maschile  117           NaN\n",
       "5489  1693       testimone  stato libero   Maschile  126           NaN\n",
       "5490  1693       testimone  stato libero   Maschile  140           NaN\n",
       "\n",
       "[5491 rows x 6 columns]"
      ]
     },
     "execution_count": 108,
     "metadata": {},
     "output_type": "execute_result"
    }
   ],
   "source": [
    "df_result_list_lustres = df_result_list.copy(deep=True)\n",
    "df_result_list_lustres['lustro'] = pd.cut(df_result_list_lustres['eta'], a5List, right=False)\n",
    "# Inspection\n",
    "df_result_list_lustres"
   ]
  },
  {
   "cell_type": "code",
   "execution_count": 109,
   "metadata": {},
   "outputs": [],
   "source": [
    "### Transformer le code ajouté pour qu'il soit plus lisible\n",
    "df_result_list_lustres['lustro'] = df_result_list_lustres['lustro'].apply(lambda row : str(int(row.left))+'-'+str(int(row.right)))"
   ]
  },
  {
   "cell_type": "code",
   "execution_count": 110,
   "metadata": {},
   "outputs": [
    {
     "data": {
      "text/html": [
       "<div>\n",
       "<style scoped>\n",
       "    .dataframe tbody tr th:only-of-type {\n",
       "        vertical-align: middle;\n",
       "    }\n",
       "\n",
       "    .dataframe tbody tr th {\n",
       "        vertical-align: top;\n",
       "    }\n",
       "\n",
       "    .dataframe thead th {\n",
       "        text-align: right;\n",
       "    }\n",
       "</style>\n",
       "<table border=\"1\" class=\"dataframe\">\n",
       "  <thead>\n",
       "    <tr style=\"text-align: right;\">\n",
       "      <th></th>\n",
       "      <th>anno</th>\n",
       "      <th>qualita_persona</th>\n",
       "      <th>tipo</th>\n",
       "      <th>genere</th>\n",
       "      <th>eta</th>\n",
       "      <th>lustro</th>\n",
       "    </tr>\n",
       "  </thead>\n",
       "  <tbody>\n",
       "    <tr>\n",
       "      <th>0</th>\n",
       "      <td>1592</td>\n",
       "      <td>testimone</td>\n",
       "      <td>atipico</td>\n",
       "      <td>Maschile</td>\n",
       "      <td>34</td>\n",
       "      <td>31-36</td>\n",
       "    </tr>\n",
       "    <tr>\n",
       "      <th>1</th>\n",
       "      <td>1592</td>\n",
       "      <td>richiedente</td>\n",
       "      <td>atipico</td>\n",
       "      <td>Maschile</td>\n",
       "      <td>26</td>\n",
       "      <td>26-31</td>\n",
       "    </tr>\n",
       "    <tr>\n",
       "      <th>2</th>\n",
       "      <td>1592</td>\n",
       "      <td>richiedente</td>\n",
       "      <td>stato libero</td>\n",
       "      <td>Maschile</td>\n",
       "      <td>25</td>\n",
       "      <td>21-26</td>\n",
       "    </tr>\n",
       "    <tr>\n",
       "      <th>3</th>\n",
       "      <td>1592</td>\n",
       "      <td>richiedente</td>\n",
       "      <td>stato libero</td>\n",
       "      <td>Maschile</td>\n",
       "      <td>20</td>\n",
       "      <td>16-21</td>\n",
       "    </tr>\n",
       "    <tr>\n",
       "      <th>4</th>\n",
       "      <td>1592</td>\n",
       "      <td>richiedente</td>\n",
       "      <td>stato libero</td>\n",
       "      <td>Maschile</td>\n",
       "      <td>26</td>\n",
       "      <td>26-31</td>\n",
       "    </tr>\n",
       "  </tbody>\n",
       "</table>\n",
       "</div>"
      ],
      "text/plain": [
       "   anno qualita_persona          tipo    genere  eta lustro\n",
       "0  1592       testimone       atipico  Maschile   34  31-36\n",
       "1  1592     richiedente       atipico  Maschile   26  26-31\n",
       "2  1592     richiedente  stato libero  Maschile   25  21-26\n",
       "3  1592     richiedente  stato libero  Maschile   20  16-21\n",
       "4  1592     richiedente  stato libero  Maschile   26  26-31"
      ]
     },
     "execution_count": 110,
     "metadata": {},
     "output_type": "execute_result"
    }
   ],
   "source": [
    "df_result_list_lustres.head()"
   ]
  },
  {
   "cell_type": "code",
   "execution_count": 111,
   "metadata": {},
   "outputs": [
    {
     "data": {
      "text/html": [
       "<div>\n",
       "<style scoped>\n",
       "    .dataframe tbody tr th:only-of-type {\n",
       "        vertical-align: middle;\n",
       "    }\n",
       "\n",
       "    .dataframe tbody tr th {\n",
       "        vertical-align: top;\n",
       "    }\n",
       "\n",
       "    .dataframe thead th {\n",
       "        text-align: right;\n",
       "    }\n",
       "</style>\n",
       "<table border=\"1\" class=\"dataframe\">\n",
       "  <thead>\n",
       "    <tr style=\"text-align: right;\">\n",
       "      <th>tipo</th>\n",
       "      <th>a lungo assente</th>\n",
       "      <th>atipico</th>\n",
       "      <th>stato libero</th>\n",
       "      <th>vedovanza</th>\n",
       "    </tr>\n",
       "    <tr>\n",
       "      <th>lustro</th>\n",
       "      <th></th>\n",
       "      <th></th>\n",
       "      <th></th>\n",
       "      <th></th>\n",
       "    </tr>\n",
       "  </thead>\n",
       "  <tbody>\n",
       "    <tr>\n",
       "      <th>16-21</th>\n",
       "      <td>3</td>\n",
       "      <td>3</td>\n",
       "      <td>196</td>\n",
       "      <td>0</td>\n",
       "    </tr>\n",
       "    <tr>\n",
       "      <th>21-26</th>\n",
       "      <td>6</td>\n",
       "      <td>5</td>\n",
       "      <td>562</td>\n",
       "      <td>0</td>\n",
       "    </tr>\n",
       "    <tr>\n",
       "      <th>26-31</th>\n",
       "      <td>9</td>\n",
       "      <td>7</td>\n",
       "      <td>411</td>\n",
       "      <td>3</td>\n",
       "    </tr>\n",
       "    <tr>\n",
       "      <th>31-36</th>\n",
       "      <td>3</td>\n",
       "      <td>0</td>\n",
       "      <td>131</td>\n",
       "      <td>7</td>\n",
       "    </tr>\n",
       "    <tr>\n",
       "      <th>36-41</th>\n",
       "      <td>2</td>\n",
       "      <td>1</td>\n",
       "      <td>93</td>\n",
       "      <td>6</td>\n",
       "    </tr>\n",
       "    <tr>\n",
       "      <th>41-46</th>\n",
       "      <td>1</td>\n",
       "      <td>2</td>\n",
       "      <td>17</td>\n",
       "      <td>1</td>\n",
       "    </tr>\n",
       "    <tr>\n",
       "      <th>46-51</th>\n",
       "      <td>0</td>\n",
       "      <td>0</td>\n",
       "      <td>10</td>\n",
       "      <td>4</td>\n",
       "    </tr>\n",
       "    <tr>\n",
       "      <th>51-56</th>\n",
       "      <td>1</td>\n",
       "      <td>0</td>\n",
       "      <td>0</td>\n",
       "      <td>0</td>\n",
       "    </tr>\n",
       "    <tr>\n",
       "      <th>56-61</th>\n",
       "      <td>0</td>\n",
       "      <td>0</td>\n",
       "      <td>1</td>\n",
       "      <td>0</td>\n",
       "    </tr>\n",
       "    <tr>\n",
       "      <th>66-71</th>\n",
       "      <td>0</td>\n",
       "      <td>1</td>\n",
       "      <td>1</td>\n",
       "      <td>0</td>\n",
       "    </tr>\n",
       "  </tbody>\n",
       "</table>\n",
       "</div>"
      ],
      "text/plain": [
       "tipo    a lungo assente  atipico  stato libero  vedovanza\n",
       "lustro                                                   \n",
       "16-21                 3        3           196          0\n",
       "21-26                 6        5           562          0\n",
       "26-31                 9        7           411          3\n",
       "31-36                 3        0           131          7\n",
       "36-41                 2        1            93          6\n",
       "41-46                 1        2            17          1\n",
       "46-51                 0        0            10          4\n",
       "51-56                 1        0             0          0\n",
       "56-61                 0        0             1          0\n",
       "66-71                 0        1             1          0"
      ]
     },
     "execution_count": 111,
     "metadata": {},
     "output_type": "execute_result"
    }
   ],
   "source": [
    "### Tableau de contingence lustres-typologie\n",
    "\n",
    "X = \"lustro\"  \n",
    "Y = \"tipo\"\n",
    "\n",
    "lustro_tipo = df_result_list_lustres[(df_result_list['qualita_persona']=='richiedente')&(df_result_list_lustres['eta']>12)&(df_result_list_lustres['eta']<100)][[X,Y]].pivot_table(index=X,columns=Y,aggfunc=len).fillna(0).astype(int) \n",
    "lustro_tipo.iloc[1:20]"
   ]
  },
  {
   "cell_type": "code",
   "execution_count": 154,
   "metadata": {},
   "outputs": [
    {
     "data": {
      "image/png": "[encoded data removed]",
      "text/plain": [
       "<Figure size 1440x576 with 1 Axes>"
      ]
     },
     "metadata": {
      "needs_background": "light"
     },
     "output_type": "display_data"
    }
   ],
   "source": [
    "## https://www.shanelynn.ie/bar-plots-in-python-using-pandas-dataframes/\n",
    "axis = lustro_tipo.plot(kind=\"bar\", stacked='true', figsize=(20,8), colormap=\"coolwarm\")\n",
    "xt = plt.xticks(rotation=45)"
   ]
  },
  {
   "cell_type": "code",
   "execution_count": 120,
   "metadata": {},
   "outputs": [],
   "source": [
    "### Transformer les effectifs en fréquences\n",
    "lustro_tipo_prop = lustro_tipo.apply(lambda x: x*100/sum(x), axis=1)"
   ]
  },
  {
   "cell_type": "code",
   "execution_count": 156,
   "metadata": {},
   "outputs": [
    {
     "data": {
      "image/png": "[encoded data removed]",
      "text/plain": [
       "<Figure size 1440x432 with 1 Axes>"
      ]
     },
     "metadata": {
      "needs_background": "light"
     },
     "output_type": "display_data"
    }
   ],
   "source": [
    "axis = lustro_tipo_prop.plot(kind=\"bar\", stacked='true', figsize=(20,6), colormap=\"coolwarm\")\n",
    "xt = plt.xticks(rotation=45)"
   ]
  },
  {
   "cell_type": "code",
   "execution_count": 118,
   "metadata": {},
   "outputs": [
    {
     "data": {
      "text/html": [
       "<div>\n",
       "<style scoped>\n",
       "    .dataframe tbody tr th:only-of-type {\n",
       "        vertical-align: middle;\n",
       "    }\n",
       "\n",
       "    .dataframe tbody tr th {\n",
       "        vertical-align: top;\n",
       "    }\n",
       "\n",
       "    .dataframe thead th {\n",
       "        text-align: right;\n",
       "    }\n",
       "</style>\n",
       "<table border=\"1\" class=\"dataframe\">\n",
       "  <thead>\n",
       "    <tr style=\"text-align: right;\">\n",
       "      <th>tipo</th>\n",
       "      <th>a lungo assente</th>\n",
       "      <th>atipico</th>\n",
       "      <th>stato libero</th>\n",
       "      <th>vedovanza</th>\n",
       "    </tr>\n",
       "    <tr>\n",
       "      <th>lustro</th>\n",
       "      <th></th>\n",
       "      <th></th>\n",
       "      <th></th>\n",
       "      <th></th>\n",
       "    </tr>\n",
       "  </thead>\n",
       "  <tbody>\n",
       "    <tr>\n",
       "      <th>16-21</th>\n",
       "      <td>1</td>\n",
       "      <td>3</td>\n",
       "      <td>62</td>\n",
       "      <td>0</td>\n",
       "    </tr>\n",
       "    <tr>\n",
       "      <th>21-26</th>\n",
       "      <td>0</td>\n",
       "      <td>1</td>\n",
       "      <td>81</td>\n",
       "      <td>0</td>\n",
       "    </tr>\n",
       "    <tr>\n",
       "      <th>26-31</th>\n",
       "      <td>0</td>\n",
       "      <td>3</td>\n",
       "      <td>60</td>\n",
       "      <td>1</td>\n",
       "    </tr>\n",
       "    <tr>\n",
       "      <th>31-36</th>\n",
       "      <td>0</td>\n",
       "      <td>0</td>\n",
       "      <td>20</td>\n",
       "      <td>4</td>\n",
       "    </tr>\n",
       "    <tr>\n",
       "      <th>36-41</th>\n",
       "      <td>0</td>\n",
       "      <td>0</td>\n",
       "      <td>25</td>\n",
       "      <td>4</td>\n",
       "    </tr>\n",
       "    <tr>\n",
       "      <th>41-46</th>\n",
       "      <td>0</td>\n",
       "      <td>1</td>\n",
       "      <td>5</td>\n",
       "      <td>0</td>\n",
       "    </tr>\n",
       "    <tr>\n",
       "      <th>46-51</th>\n",
       "      <td>0</td>\n",
       "      <td>0</td>\n",
       "      <td>3</td>\n",
       "      <td>1</td>\n",
       "    </tr>\n",
       "  </tbody>\n",
       "</table>\n",
       "</div>"
      ],
      "text/plain": [
       "tipo    a lungo assente  atipico  stato libero  vedovanza\n",
       "lustro                                                   \n",
       "16-21                 1        3            62          0\n",
       "21-26                 0        1            81          0\n",
       "26-31                 0        3            60          1\n",
       "31-36                 0        0            20          4\n",
       "36-41                 0        0            25          4\n",
       "41-46                 0        1             5          0\n",
       "46-51                 0        0             3          1"
      ]
     },
     "execution_count": 118,
     "metadata": {},
     "output_type": "execute_result"
    }
   ],
   "source": [
    "### Tableau de contingence lustres-typologie: femmes\n",
    "\n",
    "X = \"lustro\"  \n",
    "Y = \"tipo\"\n",
    "\n",
    "lustro_tipo_f = df_result_list_lustres[(df_result_list['qualita_persona']=='richiedente')\\\n",
    "                        &(df_result_list_lustres['eta']>12)&(df_result_list_lustres['eta']<100)\\\n",
    "                        &(df_result_list_lustres['genere']=='Femminile')]\\\n",
    "                        [[X,Y]].pivot_table(index=X,columns=Y,aggfunc=len).fillna(0).astype(int) \n",
    "lustro_tipo_f.iloc[1:20]"
   ]
  },
  {
   "cell_type": "code",
   "execution_count": 122,
   "metadata": {},
   "outputs": [
    {
     "data": {
      "text/html": [
       "<div>\n",
       "<style scoped>\n",
       "    .dataframe tbody tr th:only-of-type {\n",
       "        vertical-align: middle;\n",
       "    }\n",
       "\n",
       "    .dataframe tbody tr th {\n",
       "        vertical-align: top;\n",
       "    }\n",
       "\n",
       "    .dataframe thead th {\n",
       "        text-align: right;\n",
       "    }\n",
       "</style>\n",
       "<table border=\"1\" class=\"dataframe\">\n",
       "  <thead>\n",
       "    <tr style=\"text-align: right;\">\n",
       "      <th>tipo</th>\n",
       "      <th>a lungo assente</th>\n",
       "      <th>atipico</th>\n",
       "      <th>stato libero</th>\n",
       "      <th>vedovanza</th>\n",
       "    </tr>\n",
       "    <tr>\n",
       "      <th>lustro</th>\n",
       "      <th></th>\n",
       "      <th></th>\n",
       "      <th></th>\n",
       "      <th></th>\n",
       "    </tr>\n",
       "  </thead>\n",
       "  <tbody>\n",
       "    <tr>\n",
       "      <th>16-21</th>\n",
       "      <td>2</td>\n",
       "      <td>0</td>\n",
       "      <td>134</td>\n",
       "      <td>0</td>\n",
       "    </tr>\n",
       "    <tr>\n",
       "      <th>21-26</th>\n",
       "      <td>6</td>\n",
       "      <td>4</td>\n",
       "      <td>480</td>\n",
       "      <td>0</td>\n",
       "    </tr>\n",
       "    <tr>\n",
       "      <th>26-31</th>\n",
       "      <td>9</td>\n",
       "      <td>4</td>\n",
       "      <td>351</td>\n",
       "      <td>2</td>\n",
       "    </tr>\n",
       "    <tr>\n",
       "      <th>31-36</th>\n",
       "      <td>3</td>\n",
       "      <td>0</td>\n",
       "      <td>111</td>\n",
       "      <td>3</td>\n",
       "    </tr>\n",
       "    <tr>\n",
       "      <th>36-41</th>\n",
       "      <td>2</td>\n",
       "      <td>1</td>\n",
       "      <td>68</td>\n",
       "      <td>2</td>\n",
       "    </tr>\n",
       "    <tr>\n",
       "      <th>41-46</th>\n",
       "      <td>1</td>\n",
       "      <td>1</td>\n",
       "      <td>12</td>\n",
       "      <td>1</td>\n",
       "    </tr>\n",
       "    <tr>\n",
       "      <th>46-51</th>\n",
       "      <td>0</td>\n",
       "      <td>0</td>\n",
       "      <td>7</td>\n",
       "      <td>3</td>\n",
       "    </tr>\n",
       "    <tr>\n",
       "      <th>51-56</th>\n",
       "      <td>1</td>\n",
       "      <td>0</td>\n",
       "      <td>0</td>\n",
       "      <td>0</td>\n",
       "    </tr>\n",
       "    <tr>\n",
       "      <th>56-61</th>\n",
       "      <td>0</td>\n",
       "      <td>0</td>\n",
       "      <td>1</td>\n",
       "      <td>0</td>\n",
       "    </tr>\n",
       "    <tr>\n",
       "      <th>66-71</th>\n",
       "      <td>0</td>\n",
       "      <td>1</td>\n",
       "      <td>1</td>\n",
       "      <td>0</td>\n",
       "    </tr>\n",
       "  </tbody>\n",
       "</table>\n",
       "</div>"
      ],
      "text/plain": [
       "tipo    a lungo assente  atipico  stato libero  vedovanza\n",
       "lustro                                                   \n",
       "16-21                 2        0           134          0\n",
       "21-26                 6        4           480          0\n",
       "26-31                 9        4           351          2\n",
       "31-36                 3        0           111          3\n",
       "36-41                 2        1            68          2\n",
       "41-46                 1        1            12          1\n",
       "46-51                 0        0             7          3\n",
       "51-56                 1        0             0          0\n",
       "56-61                 0        0             1          0\n",
       "66-71                 0        1             1          0"
      ]
     },
     "execution_count": 122,
     "metadata": {},
     "output_type": "execute_result"
    }
   ],
   "source": [
    "### Tableau de contingence lustres-typologie: hommes\n",
    "\n",
    "X = \"lustro\"  \n",
    "Y = \"tipo\"\n",
    "\n",
    "lustro_tipo_m = df_result_list_lustres[(df_result_list['qualita_persona']=='richiedente')\\\n",
    "                        &(df_result_list_lustres['eta']>12)&(df_result_list_lustres['eta']<100)\\\n",
    "                        &(df_result_list_lustres['genere']=='Maschile')]\\\n",
    "                        [[X,Y]].pivot_table(index=X,columns=Y,aggfunc=len).fillna(0).astype(int) \n",
    "lustro_tipo_m.iloc[1:20]"
   ]
  },
  {
   "cell_type": "code",
   "execution_count": 124,
   "metadata": {},
   "outputs": [
    {
     "data": {
      "image/png": "[encoded data removed]",
      "text/plain": [
       "<Figure size 1440x432 with 1 Axes>"
      ]
     },
     "metadata": {
      "needs_background": "light"
     },
     "output_type": "display_data"
    }
   ],
   "source": [
    "### Séparer et comparer les requérants hommes et femmes\n",
    "\n",
    "# Première colonne de chaque groupe : femmes, seconde: hommes\n",
    "\n",
    "##  https://stackoverflow.com/questions/39013425/multiple-stacked-bar-plot-with-pandas\n",
    "## Voir aussi : https://stackoverflow.com/questions/22787209/how-to-have-clusters-of-stacked-bars-with-python-pandas\n",
    "\n",
    "fig, ax = plt.subplots(figsize=(20,6))\n",
    "\n",
    "lustro_tipo_f.plot.bar(stacked=True, width=0.4, position=1, colormap=\"coolwarm\", ax=ax) #, colormap=\"bwr\" / RdGy , alpha=0.7)\n",
    "lustro_tipo_m.plot.bar(stacked=True, width=0.4, position=-0.1, colormap=\"coolwarm\", ax=ax) #, alpha=0.7)\n",
    "\n",
    "# Fonction qui élimine les doubons dans la légende\n",
    "legend_without_duplicate_labels(ax)\n",
    "\n",
    "plt.xticks(rotation=45)\n",
    "plt.show()"
   ]
  },
  {
   "cell_type": "code",
   "execution_count": null,
   "metadata": {},
   "outputs": [],
   "source": []
  },
  {
   "cell_type": "code",
   "execution_count": 125,
   "metadata": {},
   "outputs": [],
   "source": [
    "### Transformer les effectifs en fréquences\n",
    "lustro_tipo_f_prop = lustro_tipo_f.apply(lambda x: x*100/sum(x), axis=1)\n",
    "lustro_tipo_m_prop = lustro_tipo_m.apply(lambda x: x*100/sum(x), axis=1)"
   ]
  },
  {
   "cell_type": "code",
   "execution_count": 126,
   "metadata": {},
   "outputs": [
    {
     "data": {
      "text/html": [
       "<div>\n",
       "<style scoped>\n",
       "    .dataframe tbody tr th:only-of-type {\n",
       "        vertical-align: middle;\n",
       "    }\n",
       "\n",
       "    .dataframe tbody tr th {\n",
       "        vertical-align: top;\n",
       "    }\n",
       "\n",
       "    .dataframe thead th {\n",
       "        text-align: right;\n",
       "    }\n",
       "</style>\n",
       "<table border=\"1\" class=\"dataframe\">\n",
       "  <thead>\n",
       "    <tr style=\"text-align: right;\">\n",
       "      <th></th>\n",
       "      <th>0</th>\n",
       "      <th>1</th>\n",
       "    </tr>\n",
       "  </thead>\n",
       "  <tbody>\n",
       "    <tr>\n",
       "      <th>0</th>\n",
       "      <td>11-16</td>\n",
       "      <td>F</td>\n",
       "    </tr>\n",
       "    <tr>\n",
       "      <th>1</th>\n",
       "      <td>16-21</td>\n",
       "      <td>F</td>\n",
       "    </tr>\n",
       "    <tr>\n",
       "      <th>2</th>\n",
       "      <td>21-26</td>\n",
       "      <td>F</td>\n",
       "    </tr>\n",
       "    <tr>\n",
       "      <th>3</th>\n",
       "      <td>26-31</td>\n",
       "      <td>F</td>\n",
       "    </tr>\n",
       "    <tr>\n",
       "      <th>4</th>\n",
       "      <td>31-36</td>\n",
       "      <td>F</td>\n",
       "    </tr>\n",
       "    <tr>\n",
       "      <th>5</th>\n",
       "      <td>36-41</td>\n",
       "      <td>F</td>\n",
       "    </tr>\n",
       "    <tr>\n",
       "      <th>6</th>\n",
       "      <td>41-46</td>\n",
       "      <td>F</td>\n",
       "    </tr>\n",
       "    <tr>\n",
       "      <th>7</th>\n",
       "      <td>46-51</td>\n",
       "      <td>F</td>\n",
       "    </tr>\n",
       "  </tbody>\n",
       "</table>\n",
       "</div>"
      ],
      "text/plain": [
       "       0  1\n",
       "0  11-16  F\n",
       "1  16-21  F\n",
       "2  21-26  F\n",
       "3  26-31  F\n",
       "4  31-36  F\n",
       "5  36-41  F\n",
       "6  41-46  F\n",
       "7  46-51  F"
      ]
     },
     "execution_count": 126,
     "metadata": {},
     "output_type": "execute_result"
    }
   ],
   "source": [
    "f = []\n",
    "[f.append([i,'F']) for i,r in lustro_tipo_f.iterrows()]\n",
    "df_f = pd.DataFrame(f)\n",
    "df_f"
   ]
  },
  {
   "cell_type": "code",
   "execution_count": 128,
   "metadata": {},
   "outputs": [
    {
     "data": {
      "image/png": "[encoded data removed]",
      "text/plain": [
       "<Figure size 1440x432 with 1 Axes>"
      ]
     },
     "metadata": {
      "needs_background": "light"
     },
     "output_type": "display_data"
    }
   ],
   "source": [
    "### Première colonne: femmes, seconde: hommes\n",
    "\n",
    "fig, ax = plt.subplots(figsize=(20,6))\n",
    "lustro_tipo_f_prop.plot.bar(stacked=True, width=0.2, position=1, colormap=\"coolwarm\", ax=ax)\n",
    "lustro_tipo_m_prop.plot.bar(stacked=True, width=0.2, position=-0.2, colormap=\"coolwarm\", ax=ax)\n",
    "plt.legend() # loc=\"upper center\"\n",
    "\n",
    "# Fonction qui élimine les doubons dans la légende\n",
    "legend_without_duplicate_labels(ax)\n",
    "\n",
    "xt = plt.xticks(rotation=45)\n",
    "plt.show()"
   ]
  },
  {
   "cell_type": "code",
   "execution_count": null,
   "metadata": {},
   "outputs": [],
   "source": []
  },
  {
   "cell_type": "markdown",
   "metadata": {},
   "source": [
    "## Différence d'age\n",
    "\n",
    "Inspecter la différence d'âge entre les requérants et les témoins"
   ]
  },
  {
   "cell_type": "markdown",
   "metadata": {},
   "source": [
    "### Préparation des données"
   ]
  },
  {
   "cell_type": "code",
   "execution_count": 130,
   "metadata": {},
   "outputs": [
    {
     "data": {
      "text/html": [
       "<div>\n",
       "<style scoped>\n",
       "    .dataframe tbody tr th:only-of-type {\n",
       "        vertical-align: middle;\n",
       "    }\n",
       "\n",
       "    .dataframe tbody tr th {\n",
       "        vertical-align: top;\n",
       "    }\n",
       "\n",
       "    .dataframe thead th {\n",
       "        text-align: right;\n",
       "    }\n",
       "</style>\n",
       "<table border=\"1\" class=\"dataframe\">\n",
       "  <thead>\n",
       "    <tr style=\"text-align: right;\">\n",
       "      <th></th>\n",
       "      <th>id_persona</th>\n",
       "      <th>nome</th>\n",
       "      <th>anno_nascita</th>\n",
       "      <th>genere</th>\n",
       "      <th>luogo_origine</th>\n",
       "      <th>mestieri</th>\n",
       "      <th>numero_processetti</th>\n",
       "      <th>id_primo_processetto</th>\n",
       "      <th>anno_primo_processetto</th>\n",
       "      <th>tipo_primo_processetto</th>\n",
       "      <th>numero_testimonianze</th>\n",
       "      <th>id_prima_testimonianza</th>\n",
       "      <th>anno_prima_testimonianza</th>\n",
       "      <th>tipo_prima_testimonianza</th>\n",
       "      <th>date_unions</th>\n",
       "      <th>eta</th>\n",
       "    </tr>\n",
       "  </thead>\n",
       "  <tbody>\n",
       "    <tr>\n",
       "      <th>55</th>\n",
       "      <td>749019</td>\n",
       "      <td>Antonio di Alterio Antonio Pizzoli (bergamasco...</td>\n",
       "      <td>1564.0</td>\n",
       "      <td>Maschile</td>\n",
       "      <td>Territorio di Bergamo(749027)</td>\n",
       "      <td>fachin(749039)</td>\n",
       "      <td>1</td>\n",
       "      <td>754435</td>\n",
       "      <td>1597.0</td>\n",
       "      <td>Stato libero di “foresto”</td>\n",
       "      <td>0</td>\n",
       "      <td>0</td>\n",
       "      <td>0.0</td>\n",
       "      <td></td>\n",
       "      <td>NaN</td>\n",
       "      <td>33.0</td>\n",
       "    </tr>\n",
       "    <tr>\n",
       "      <th>56</th>\n",
       "      <td>749052</td>\n",
       "      <td>Giacomo di Pietro Roveda</td>\n",
       "      <td>1576.0</td>\n",
       "      <td>Maschile</td>\n",
       "      <td>Diocesi di Coira(749227)#Pontella(750696)</td>\n",
       "      <td>galiner(766889)</td>\n",
       "      <td>0</td>\n",
       "      <td>0</td>\n",
       "      <td>0.0</td>\n",
       "      <td></td>\n",
       "      <td>1</td>\n",
       "      <td>749080</td>\n",
       "      <td>1598.0</td>\n",
       "      <td>Stato libero di “foresto”</td>\n",
       "      <td>NaN</td>\n",
       "      <td>22.0</td>\n",
       "    </tr>\n",
       "    <tr>\n",
       "      <th>57</th>\n",
       "      <td>749143</td>\n",
       "      <td>Pietro di Bartolomeo De Cobellis (bergamasco)</td>\n",
       "      <td>1533.0</td>\n",
       "      <td>Maschile</td>\n",
       "      <td>Territorio di Bergamo(749027)</td>\n",
       "      <td>impenditor(749130)</td>\n",
       "      <td>0</td>\n",
       "      <td>0</td>\n",
       "      <td>0.0</td>\n",
       "      <td></td>\n",
       "      <td>1</td>\n",
       "      <td>754435</td>\n",
       "      <td>1597.0</td>\n",
       "      <td>Stato libero di “foresto”</td>\n",
       "      <td>NaN</td>\n",
       "      <td>64.0</td>\n",
       "    </tr>\n",
       "    <tr>\n",
       "      <th>58</th>\n",
       "      <td>749208</td>\n",
       "      <td>Antonio di Giovanni Pietro De Recchialis (berg...</td>\n",
       "      <td>1559.0</td>\n",
       "      <td>Maschile</td>\n",
       "      <td>Territorio di Bergamo(749027)</td>\n",
       "      <td>fachin(749039)</td>\n",
       "      <td>0</td>\n",
       "      <td>0</td>\n",
       "      <td>0.0</td>\n",
       "      <td></td>\n",
       "      <td>1</td>\n",
       "      <td>754435</td>\n",
       "      <td>1597.0</td>\n",
       "      <td>Stato libero di “foresto”</td>\n",
       "      <td>NaN</td>\n",
       "      <td>38.0</td>\n",
       "    </tr>\n",
       "    <tr>\n",
       "      <th>59</th>\n",
       "      <td>749635</td>\n",
       "      <td>Battista di Pietro Giuliano Pinzano (da Corden...</td>\n",
       "      <td>1570.0</td>\n",
       "      <td>Maschile</td>\n",
       "      <td>Cordenons(749648)</td>\n",
       "      <td></td>\n",
       "      <td>1</td>\n",
       "      <td>754466</td>\n",
       "      <td>1597.0</td>\n",
       "      <td>Stato libero di “foresto”</td>\n",
       "      <td>0</td>\n",
       "      <td>0</td>\n",
       "      <td>0.0</td>\n",
       "      <td></td>\n",
       "      <td>NaN</td>\n",
       "      <td>27.0</td>\n",
       "    </tr>\n",
       "  </tbody>\n",
       "</table>\n",
       "</div>"
      ],
      "text/plain": [
       "    id_persona                                               nome  \\\n",
       "55      749019  Antonio di Alterio Antonio Pizzoli (bergamasco...   \n",
       "56      749052                           Giacomo di Pietro Roveda   \n",
       "57      749143      Pietro di Bartolomeo De Cobellis (bergamasco)   \n",
       "58      749208  Antonio di Giovanni Pietro De Recchialis (berg...   \n",
       "59      749635  Battista di Pietro Giuliano Pinzano (da Corden...   \n",
       "\n",
       "    anno_nascita    genere                              luogo_origine  \\\n",
       "55        1564.0  Maschile              Territorio di Bergamo(749027)   \n",
       "56        1576.0  Maschile  Diocesi di Coira(749227)#Pontella(750696)   \n",
       "57        1533.0  Maschile              Territorio di Bergamo(749027)   \n",
       "58        1559.0  Maschile              Territorio di Bergamo(749027)   \n",
       "59        1570.0  Maschile                          Cordenons(749648)   \n",
       "\n",
       "              mestieri  numero_processetti  id_primo_processetto  \\\n",
       "55      fachin(749039)                   1                754435   \n",
       "56     galiner(766889)                   0                     0   \n",
       "57  impenditor(749130)                   0                     0   \n",
       "58      fachin(749039)                   0                     0   \n",
       "59                                       1                754466   \n",
       "\n",
       "    anno_primo_processetto      tipo_primo_processetto  numero_testimonianze  \\\n",
       "55                  1597.0  Stato libero di “foresto”                      0   \n",
       "56                     0.0                                                 1   \n",
       "57                     0.0                                                 1   \n",
       "58                     0.0                                                 1   \n",
       "59                  1597.0  Stato libero di “foresto”                      0   \n",
       "\n",
       "    id_prima_testimonianza  anno_prima_testimonianza  \\\n",
       "55                       0                       0.0   \n",
       "56                  749080                    1598.0   \n",
       "57                  754435                    1597.0   \n",
       "58                  754435                    1597.0   \n",
       "59                       0                       0.0   \n",
       "\n",
       "      tipo_prima_testimonianza  date_unions   eta  \n",
       "55                                      NaN  33.0  \n",
       "56  Stato libero di “foresto”           NaN  22.0  \n",
       "57  Stato libero di “foresto”           NaN  64.0  \n",
       "58  Stato libero di “foresto”           NaN  38.0  \n",
       "59                                      NaN  27.0  "
      ]
     },
     "execution_count": 130,
     "metadata": {},
     "output_type": "execute_result"
    }
   ],
   "source": [
    "pl_df.iloc[55:60]"
   ]
  },
  {
   "cell_type": "code",
   "execution_count": 131,
   "metadata": {},
   "outputs": [
    {
     "data": {
      "text/html": [
       "<div>\n",
       "<style scoped>\n",
       "    .dataframe tbody tr th:only-of-type {\n",
       "        vertical-align: middle;\n",
       "    }\n",
       "\n",
       "    .dataframe tbody tr th {\n",
       "        vertical-align: top;\n",
       "    }\n",
       "\n",
       "    .dataframe thead th {\n",
       "        text-align: right;\n",
       "    }\n",
       "</style>\n",
       "<table border=\"1\" class=\"dataframe\">\n",
       "  <thead>\n",
       "    <tr style=\"text-align: right;\">\n",
       "      <th></th>\n",
       "      <th>id_primo_processetto</th>\n",
       "      <th>anno_nascita</th>\n",
       "    </tr>\n",
       "  </thead>\n",
       "  <tbody>\n",
       "    <tr>\n",
       "      <th>4</th>\n",
       "      <td>739330</td>\n",
       "      <td>1566.0</td>\n",
       "    </tr>\n",
       "    <tr>\n",
       "      <th>5</th>\n",
       "      <td>1083057</td>\n",
       "      <td>1567.0</td>\n",
       "    </tr>\n",
       "    <tr>\n",
       "      <th>6</th>\n",
       "      <td>745768</td>\n",
       "      <td>1572.0</td>\n",
       "    </tr>\n",
       "    <tr>\n",
       "      <th>7</th>\n",
       "      <td>1083384</td>\n",
       "      <td>1566.0</td>\n",
       "    </tr>\n",
       "    <tr>\n",
       "      <th>9</th>\n",
       "      <td>1083610</td>\n",
       "      <td>1570.0</td>\n",
       "    </tr>\n",
       "  </tbody>\n",
       "</table>\n",
       "</div>"
      ],
      "text/plain": [
       "   id_primo_processetto  anno_nascita\n",
       "4                739330        1566.0\n",
       "5               1083057        1567.0\n",
       "6                745768        1572.0\n",
       "7               1083384        1566.0\n",
       "9               1083610        1570.0"
      ]
     },
     "execution_count": 131,
     "metadata": {},
     "output_type": "execute_result"
    }
   ],
   "source": [
    "#req = pl_df.iloc[50:70][(pl_df['numero_processetti']>0)&(pl_df['anno_nascita']>0)][['id_primo_processetto', 'anno_nascita']]\n",
    "req = pl_df[(pl_df['numero_processetti']>0)&(pl_df['anno_nascita']>0)][['id_primo_processetto', 'anno_nascita']]\n",
    "req.head()"
   ]
  },
  {
   "cell_type": "code",
   "execution_count": 132,
   "metadata": {},
   "outputs": [
    {
     "data": {
      "text/html": [
       "<div>\n",
       "<style scoped>\n",
       "    .dataframe tbody tr th:only-of-type {\n",
       "        vertical-align: middle;\n",
       "    }\n",
       "\n",
       "    .dataframe tbody tr th {\n",
       "        vertical-align: top;\n",
       "    }\n",
       "\n",
       "    .dataframe thead th {\n",
       "        text-align: right;\n",
       "    }\n",
       "</style>\n",
       "<table border=\"1\" class=\"dataframe\">\n",
       "  <thead>\n",
       "    <tr style=\"text-align: right;\">\n",
       "      <th></th>\n",
       "      <th>id_primo_processetto</th>\n",
       "      <th>anno_nascita</th>\n",
       "    </tr>\n",
       "  </thead>\n",
       "  <tbody>\n",
       "    <tr>\n",
       "      <th>0</th>\n",
       "      <td>739330</td>\n",
       "      <td>1558.0</td>\n",
       "    </tr>\n",
       "    <tr>\n",
       "      <th>8</th>\n",
       "      <td>739330</td>\n",
       "      <td>1558.0</td>\n",
       "    </tr>\n",
       "    <tr>\n",
       "      <th>11</th>\n",
       "      <td>1084018</td>\n",
       "      <td>1563.0</td>\n",
       "    </tr>\n",
       "    <tr>\n",
       "      <th>20</th>\n",
       "      <td>911374</td>\n",
       "      <td>1566.0</td>\n",
       "    </tr>\n",
       "    <tr>\n",
       "      <th>27</th>\n",
       "      <td>747599</td>\n",
       "      <td>1548.0</td>\n",
       "    </tr>\n",
       "  </tbody>\n",
       "</table>\n",
       "</div>"
      ],
      "text/plain": [
       "    id_primo_processetto  anno_nascita\n",
       "0                 739330        1558.0\n",
       "8                 739330        1558.0\n",
       "11               1084018        1563.0\n",
       "20                911374        1566.0\n",
       "27                747599        1548.0"
      ]
     },
     "execution_count": 132,
     "metadata": {},
     "output_type": "execute_result"
    }
   ],
   "source": [
    "tem = pl_df[(pl_df['numero_testimonianze']>0)&(pl_df['anno_nascita']>0)][['id_prima_testimonianza', 'anno_nascita']].rename(columns={'id_prima_testimonianza':'id_primo_processetto'})\n",
    "tem.head()"
   ]
  },
  {
   "cell_type": "code",
   "execution_count": 133,
   "metadata": {},
   "outputs": [
    {
     "data": {
      "text/html": [
       "<div>\n",
       "<style scoped>\n",
       "    .dataframe tbody tr th:only-of-type {\n",
       "        vertical-align: middle;\n",
       "    }\n",
       "\n",
       "    .dataframe tbody tr th {\n",
       "        vertical-align: top;\n",
       "    }\n",
       "\n",
       "    .dataframe thead th {\n",
       "        text-align: right;\n",
       "    }\n",
       "</style>\n",
       "<table border=\"1\" class=\"dataframe\">\n",
       "  <thead>\n",
       "    <tr style=\"text-align: right;\">\n",
       "      <th></th>\n",
       "      <th>id_primo_processetto</th>\n",
       "      <th>anno_nascita_x</th>\n",
       "      <th>anno_nascita_y</th>\n",
       "    </tr>\n",
       "  </thead>\n",
       "  <tbody>\n",
       "    <tr>\n",
       "      <th>0</th>\n",
       "      <td>739330</td>\n",
       "      <td>1566.0</td>\n",
       "      <td>1558.0</td>\n",
       "    </tr>\n",
       "    <tr>\n",
       "      <th>1</th>\n",
       "      <td>739330</td>\n",
       "      <td>1566.0</td>\n",
       "      <td>1558.0</td>\n",
       "    </tr>\n",
       "    <tr>\n",
       "      <th>2</th>\n",
       "      <td>1083057</td>\n",
       "      <td>1567.0</td>\n",
       "      <td>1546.0</td>\n",
       "    </tr>\n",
       "    <tr>\n",
       "      <th>3</th>\n",
       "      <td>1083057</td>\n",
       "      <td>1567.0</td>\n",
       "      <td>1558.0</td>\n",
       "    </tr>\n",
       "    <tr>\n",
       "      <th>4</th>\n",
       "      <td>745768</td>\n",
       "      <td>1572.0</td>\n",
       "      <td>1556.0</td>\n",
       "    </tr>\n",
       "  </tbody>\n",
       "</table>\n",
       "</div>"
      ],
      "text/plain": [
       "   id_primo_processetto  anno_nascita_x  anno_nascita_y\n",
       "0                739330          1566.0          1558.0\n",
       "1                739330          1566.0          1558.0\n",
       "2               1083057          1567.0          1546.0\n",
       "3               1083057          1567.0          1558.0\n",
       "4                745768          1572.0          1556.0"
      ]
     },
     "execution_count": 133,
     "metadata": {},
     "output_type": "execute_result"
    }
   ],
   "source": [
    "m_pl_df = pd.merge(req, tem, how=\"left\", on='id_primo_processetto')\n",
    "m_pl_df.head()"
   ]
  },
  {
   "cell_type": "code",
   "execution_count": 134,
   "metadata": {
    "tags": []
   },
   "outputs": [
    {
     "data": {
      "text/html": [
       "<div>\n",
       "<style scoped>\n",
       "    .dataframe tbody tr th:only-of-type {\n",
       "        vertical-align: middle;\n",
       "    }\n",
       "\n",
       "    .dataframe tbody tr th {\n",
       "        vertical-align: top;\n",
       "    }\n",
       "\n",
       "    .dataframe thead th {\n",
       "        text-align: right;\n",
       "    }\n",
       "</style>\n",
       "<table border=\"1\" class=\"dataframe\">\n",
       "  <thead>\n",
       "    <tr style=\"text-align: right;\">\n",
       "      <th></th>\n",
       "      <th>id_primo_processetto</th>\n",
       "      <th>anno_nascita_x</th>\n",
       "      <th>anno_nascita_y</th>\n",
       "      <th>diff_eta</th>\n",
       "    </tr>\n",
       "  </thead>\n",
       "  <tbody>\n",
       "    <tr>\n",
       "      <th>0</th>\n",
       "      <td>739330</td>\n",
       "      <td>1566.0</td>\n",
       "      <td>1558.0</td>\n",
       "      <td>8.0</td>\n",
       "    </tr>\n",
       "    <tr>\n",
       "      <th>1</th>\n",
       "      <td>739330</td>\n",
       "      <td>1566.0</td>\n",
       "      <td>1558.0</td>\n",
       "      <td>8.0</td>\n",
       "    </tr>\n",
       "    <tr>\n",
       "      <th>2</th>\n",
       "      <td>1083057</td>\n",
       "      <td>1567.0</td>\n",
       "      <td>1546.0</td>\n",
       "      <td>21.0</td>\n",
       "    </tr>\n",
       "    <tr>\n",
       "      <th>3</th>\n",
       "      <td>1083057</td>\n",
       "      <td>1567.0</td>\n",
       "      <td>1558.0</td>\n",
       "      <td>9.0</td>\n",
       "    </tr>\n",
       "    <tr>\n",
       "      <th>4</th>\n",
       "      <td>745768</td>\n",
       "      <td>1572.0</td>\n",
       "      <td>1556.0</td>\n",
       "      <td>16.0</td>\n",
       "    </tr>\n",
       "  </tbody>\n",
       "</table>\n",
       "</div>"
      ],
      "text/plain": [
       "   id_primo_processetto  anno_nascita_x  anno_nascita_y  diff_eta\n",
       "0                739330          1566.0          1558.0       8.0\n",
       "1                739330          1566.0          1558.0       8.0\n",
       "2               1083057          1567.0          1546.0      21.0\n",
       "3               1083057          1567.0          1558.0       9.0\n",
       "4                745768          1572.0          1556.0      16.0"
      ]
     },
     "execution_count": 134,
     "metadata": {},
     "output_type": "execute_result"
    }
   ],
   "source": [
    "m_pl_df['diff_eta'] = m_pl_df['anno_nascita_x'] - m_pl_df['anno_nascita_y']\n",
    "#m_pl_df['diff_eta'] = m_pl_df['diff_eta'].fillna(0)\n",
    "m_pl_df.head()"
   ]
  },
  {
   "cell_type": "code",
   "execution_count": 135,
   "metadata": {},
   "outputs": [
    {
     "data": {
      "text/plain": [
       "(-401.0, 75.0)"
      ]
     },
     "execution_count": 135,
     "metadata": {},
     "output_type": "execute_result"
    }
   ],
   "source": [
    "min(m_pl_df['diff_eta']), max(m_pl_df['diff_eta'])"
   ]
  },
  {
   "cell_type": "markdown",
   "metadata": {},
   "source": [
    "### Analyse"
   ]
  },
  {
   "cell_type": "code",
   "execution_count": 136,
   "metadata": {},
   "outputs": [
    {
     "data": {
      "text/plain": [
       "count    3060.000000\n",
       "mean       11.615033\n",
       "std        13.798704\n",
       "min       -43.000000\n",
       "25%         1.000000\n",
       "50%        10.000000\n",
       "75%        20.000000\n",
       "max        75.000000\n",
       "Name: diff_eta, dtype: float64"
      ]
     },
     "execution_count": 136,
     "metadata": {},
     "output_type": "execute_result"
    }
   ],
   "source": [
    "m_pl_df[m_pl_df['diff_eta']>-60]['diff_eta'].describe()"
   ]
  },
  {
   "cell_type": "code",
   "execution_count": 137,
   "metadata": {},
   "outputs": [
    {
     "data": {
      "text/html": [
       "<div>\n",
       "<style scoped>\n",
       "    .dataframe tbody tr th:only-of-type {\n",
       "        vertical-align: middle;\n",
       "    }\n",
       "\n",
       "    .dataframe tbody tr th {\n",
       "        vertical-align: top;\n",
       "    }\n",
       "\n",
       "    .dataframe thead th {\n",
       "        text-align: right;\n",
       "    }\n",
       "</style>\n",
       "<table border=\"1\" class=\"dataframe\">\n",
       "  <thead>\n",
       "    <tr style=\"text-align: right;\">\n",
       "      <th></th>\n",
       "      <th>diff_eta</th>\n",
       "      <th>effectif</th>\n",
       "    </tr>\n",
       "  </thead>\n",
       "  <tbody>\n",
       "    <tr>\n",
       "      <th>0</th>\n",
       "      <td>-43.0</td>\n",
       "      <td>1</td>\n",
       "    </tr>\n",
       "    <tr>\n",
       "      <th>1</th>\n",
       "      <td>-34.0</td>\n",
       "      <td>1</td>\n",
       "    </tr>\n",
       "    <tr>\n",
       "      <th>2</th>\n",
       "      <td>-30.0</td>\n",
       "      <td>1</td>\n",
       "    </tr>\n",
       "    <tr>\n",
       "      <th>3</th>\n",
       "      <td>-28.0</td>\n",
       "      <td>1</td>\n",
       "    </tr>\n",
       "    <tr>\n",
       "      <th>4</th>\n",
       "      <td>-27.0</td>\n",
       "      <td>1</td>\n",
       "    </tr>\n",
       "    <tr>\n",
       "      <th>...</th>\n",
       "      <td>...</td>\n",
       "      <td>...</td>\n",
       "    </tr>\n",
       "    <tr>\n",
       "      <th>86</th>\n",
       "      <td>62.0</td>\n",
       "      <td>1</td>\n",
       "    </tr>\n",
       "    <tr>\n",
       "      <th>87</th>\n",
       "      <td>64.0</td>\n",
       "      <td>1</td>\n",
       "    </tr>\n",
       "    <tr>\n",
       "      <th>88</th>\n",
       "      <td>65.0</td>\n",
       "      <td>2</td>\n",
       "    </tr>\n",
       "    <tr>\n",
       "      <th>89</th>\n",
       "      <td>71.0</td>\n",
       "      <td>1</td>\n",
       "    </tr>\n",
       "    <tr>\n",
       "      <th>90</th>\n",
       "      <td>75.0</td>\n",
       "      <td>1</td>\n",
       "    </tr>\n",
       "  </tbody>\n",
       "</table>\n",
       "<p>91 rows × 2 columns</p>\n",
       "</div>"
      ],
      "text/plain": [
       "    diff_eta  effectif\n",
       "0      -43.0         1\n",
       "1      -34.0         1\n",
       "2      -30.0         1\n",
       "3      -28.0         1\n",
       "4      -27.0         1\n",
       "..       ...       ...\n",
       "86      62.0         1\n",
       "87      64.0         1\n",
       "88      65.0         2\n",
       "89      71.0         1\n",
       "90      75.0         1\n",
       "\n",
       "[91 rows x 2 columns]"
      ]
     },
     "execution_count": 137,
     "metadata": {},
     "output_type": "execute_result"
    }
   ],
   "source": [
    "d = pd.DataFrame(m_pl_df[m_pl_df['diff_eta']>-60].groupby('diff_eta').size())  #, columns=['diff_eta', 'effectif']).reset_index()\n",
    "dr = d.rename(columns={0:'effectif'})\n",
    "dr = dr.reset_index()\n",
    "dr"
   ]
  },
  {
   "cell_type": "code",
   "execution_count": 140,
   "metadata": {
    "tags": []
   },
   "outputs": [
    {
     "data": {
      "image/png": "[encoded data removed]",
      "text/plain": [
       "<Figure size 1728x576 with 1 Axes>"
      ]
     },
     "metadata": {
      "needs_background": "light"
     },
     "output_type": "display_data"
    }
   ],
   "source": [
    "### Distribution par année\n",
    "\n",
    "# Noter le filtre sur les valeurs extrèmes – elles sont exclues\n",
    "\n",
    "objects = [int(l) for l in dr[dr['diff_eta'].between(-30,65)]['diff_eta']]\n",
    "eff = [l for l in dr[dr['diff_eta'].between(-30,65)]['effectif']]\n",
    "\n",
    "p1 = plt.bar(objects, eff)\n",
    "\n",
    "\n",
    "plt.ylabel('Effectif')\n",
    "plt.title(\"Effectif par différence d'âge\")\n",
    "plt.gcf().set_size_inches(24, 8)\n",
    "# supported formats: eps, pdf, pgf, png, ps, raw, rgba, svg, svgz\n",
    "#plt.savefig('exported_pictures/effectifs_par_annee.png', dpi=100, bbox_inches = \"tight\") #pdf, svg\n",
    "plt.xticks(objects,rotation=45)\n",
    "plt.show()\n"
   ]
  },
  {
   "cell_type": "code",
   "execution_count": null,
   "metadata": {},
   "outputs": [],
   "source": []
  },
  {
   "cell_type": "markdown",
   "metadata": {},
   "source": [
    "# Professions, lieux d'origine: codage nécessaire"
   ]
  },
  {
   "cell_type": "code",
   "execution_count": 141,
   "metadata": {},
   "outputs": [
    {
     "data": {
      "text/html": [
       "<div>\n",
       "<style scoped>\n",
       "    .dataframe tbody tr th:only-of-type {\n",
       "        vertical-align: middle;\n",
       "    }\n",
       "\n",
       "    .dataframe tbody tr th {\n",
       "        vertical-align: top;\n",
       "    }\n",
       "\n",
       "    .dataframe thead th {\n",
       "        text-align: right;\n",
       "    }\n",
       "</style>\n",
       "<table border=\"1\" class=\"dataframe\">\n",
       "  <thead>\n",
       "    <tr style=\"text-align: right;\">\n",
       "      <th></th>\n",
       "      <th>id_persona</th>\n",
       "      <th>nome</th>\n",
       "      <th>anno_nascita</th>\n",
       "      <th>genere</th>\n",
       "      <th>luogo_origine</th>\n",
       "      <th>mestieri</th>\n",
       "      <th>numero_processetti</th>\n",
       "      <th>id_primo_processetto</th>\n",
       "      <th>anno_primo_processetto</th>\n",
       "      <th>tipo_primo_processetto</th>\n",
       "      <th>numero_testimonianze</th>\n",
       "      <th>id_prima_testimonianza</th>\n",
       "      <th>anno_prima_testimonianza</th>\n",
       "      <th>tipo_prima_testimonianza</th>\n",
       "      <th>date_unions</th>\n",
       "      <th>eta</th>\n",
       "    </tr>\n",
       "  </thead>\n",
       "  <tbody>\n",
       "    <tr>\n",
       "      <th>55</th>\n",
       "      <td>749019</td>\n",
       "      <td>Antonio di Alterio Antonio Pizzoli (bergamasco...</td>\n",
       "      <td>1564.0</td>\n",
       "      <td>Maschile</td>\n",
       "      <td>Territorio di Bergamo(749027)</td>\n",
       "      <td>fachin(749039)</td>\n",
       "      <td>1</td>\n",
       "      <td>754435</td>\n",
       "      <td>1597.0</td>\n",
       "      <td>Stato libero di “foresto”</td>\n",
       "      <td>0</td>\n",
       "      <td>0</td>\n",
       "      <td>0.0</td>\n",
       "      <td></td>\n",
       "      <td>NaN</td>\n",
       "      <td>33.0</td>\n",
       "    </tr>\n",
       "    <tr>\n",
       "      <th>56</th>\n",
       "      <td>749052</td>\n",
       "      <td>Giacomo di Pietro Roveda</td>\n",
       "      <td>1576.0</td>\n",
       "      <td>Maschile</td>\n",
       "      <td>Diocesi di Coira(749227)#Pontella(750696)</td>\n",
       "      <td>galiner(766889)</td>\n",
       "      <td>0</td>\n",
       "      <td>0</td>\n",
       "      <td>0.0</td>\n",
       "      <td></td>\n",
       "      <td>1</td>\n",
       "      <td>749080</td>\n",
       "      <td>1598.0</td>\n",
       "      <td>Stato libero di “foresto”</td>\n",
       "      <td>NaN</td>\n",
       "      <td>22.0</td>\n",
       "    </tr>\n",
       "    <tr>\n",
       "      <th>57</th>\n",
       "      <td>749143</td>\n",
       "      <td>Pietro di Bartolomeo De Cobellis (bergamasco)</td>\n",
       "      <td>1533.0</td>\n",
       "      <td>Maschile</td>\n",
       "      <td>Territorio di Bergamo(749027)</td>\n",
       "      <td>impenditor(749130)</td>\n",
       "      <td>0</td>\n",
       "      <td>0</td>\n",
       "      <td>0.0</td>\n",
       "      <td></td>\n",
       "      <td>1</td>\n",
       "      <td>754435</td>\n",
       "      <td>1597.0</td>\n",
       "      <td>Stato libero di “foresto”</td>\n",
       "      <td>NaN</td>\n",
       "      <td>64.0</td>\n",
       "    </tr>\n",
       "    <tr>\n",
       "      <th>58</th>\n",
       "      <td>749208</td>\n",
       "      <td>Antonio di Giovanni Pietro De Recchialis (berg...</td>\n",
       "      <td>1559.0</td>\n",
       "      <td>Maschile</td>\n",
       "      <td>Territorio di Bergamo(749027)</td>\n",
       "      <td>fachin(749039)</td>\n",
       "      <td>0</td>\n",
       "      <td>0</td>\n",
       "      <td>0.0</td>\n",
       "      <td></td>\n",
       "      <td>1</td>\n",
       "      <td>754435</td>\n",
       "      <td>1597.0</td>\n",
       "      <td>Stato libero di “foresto”</td>\n",
       "      <td>NaN</td>\n",
       "      <td>38.0</td>\n",
       "    </tr>\n",
       "    <tr>\n",
       "      <th>59</th>\n",
       "      <td>749635</td>\n",
       "      <td>Battista di Pietro Giuliano Pinzano (da Corden...</td>\n",
       "      <td>1570.0</td>\n",
       "      <td>Maschile</td>\n",
       "      <td>Cordenons(749648)</td>\n",
       "      <td></td>\n",
       "      <td>1</td>\n",
       "      <td>754466</td>\n",
       "      <td>1597.0</td>\n",
       "      <td>Stato libero di “foresto”</td>\n",
       "      <td>0</td>\n",
       "      <td>0</td>\n",
       "      <td>0.0</td>\n",
       "      <td></td>\n",
       "      <td>NaN</td>\n",
       "      <td>27.0</td>\n",
       "    </tr>\n",
       "  </tbody>\n",
       "</table>\n",
       "</div>"
      ],
      "text/plain": [
       "    id_persona                                               nome  \\\n",
       "55      749019  Antonio di Alterio Antonio Pizzoli (bergamasco...   \n",
       "56      749052                           Giacomo di Pietro Roveda   \n",
       "57      749143      Pietro di Bartolomeo De Cobellis (bergamasco)   \n",
       "58      749208  Antonio di Giovanni Pietro De Recchialis (berg...   \n",
       "59      749635  Battista di Pietro Giuliano Pinzano (da Corden...   \n",
       "\n",
       "    anno_nascita    genere                              luogo_origine  \\\n",
       "55        1564.0  Maschile              Territorio di Bergamo(749027)   \n",
       "56        1576.0  Maschile  Diocesi di Coira(749227)#Pontella(750696)   \n",
       "57        1533.0  Maschile              Territorio di Bergamo(749027)   \n",
       "58        1559.0  Maschile              Territorio di Bergamo(749027)   \n",
       "59        1570.0  Maschile                          Cordenons(749648)   \n",
       "\n",
       "              mestieri  numero_processetti  id_primo_processetto  \\\n",
       "55      fachin(749039)                   1                754435   \n",
       "56     galiner(766889)                   0                     0   \n",
       "57  impenditor(749130)                   0                     0   \n",
       "58      fachin(749039)                   0                     0   \n",
       "59                                       1                754466   \n",
       "\n",
       "    anno_primo_processetto      tipo_primo_processetto  numero_testimonianze  \\\n",
       "55                  1597.0  Stato libero di “foresto”                      0   \n",
       "56                     0.0                                                 1   \n",
       "57                     0.0                                                 1   \n",
       "58                     0.0                                                 1   \n",
       "59                  1597.0  Stato libero di “foresto”                      0   \n",
       "\n",
       "    id_prima_testimonianza  anno_prima_testimonianza  \\\n",
       "55                       0                       0.0   \n",
       "56                  749080                    1598.0   \n",
       "57                  754435                    1597.0   \n",
       "58                  754435                    1597.0   \n",
       "59                       0                       0.0   \n",
       "\n",
       "      tipo_prima_testimonianza  date_unions   eta  \n",
       "55                                      NaN  33.0  \n",
       "56  Stato libero di “foresto”           NaN  22.0  \n",
       "57  Stato libero di “foresto”           NaN  64.0  \n",
       "58  Stato libero di “foresto”           NaN  38.0  \n",
       "59                                      NaN  27.0  "
      ]
     },
     "execution_count": 141,
     "metadata": {},
     "output_type": "execute_result"
    }
   ],
   "source": [
    "pl_df.iloc[55:60]"
   ]
  },
  {
   "cell_type": "code",
   "execution_count": 157,
   "metadata": {
    "tags": []
   },
   "outputs": [
    {
     "data": {
      "text/plain": [
       "[['', 655],\n",
       " ['Venezia IT(209678)', 478],\n",
       " ['Territorio di Bergamo(749027)', 140],\n",
       " ['Cadore(761036)', 99],\n",
       " ['Carnia(773870)', 69],\n",
       " ['Territorio di Vicenza(753775)', 64],\n",
       " ['Friuli(748393)', 62],\n",
       " ['Bergamo(999686)', 57],\n",
       " ['Territorio di Brescia(768454)', 53],\n",
       " ['Territorio di Milano(755887)', 50]]"
      ]
     },
     "execution_count": 157,
     "metadata": {},
     "output_type": "execute_result"
    }
   ],
   "source": [
    "### Lieux d'origine\n",
    "\n",
    "d = pd.DataFrame(pl_df.groupby('luogo_origine').size(),columns=['effectif']).reset_index()\n",
    "sd = d.sort_values(by='effectif', ascending = False)\n",
    "sd.values.tolist()[:10]"
   ]
  },
  {
   "cell_type": "code",
   "execution_count": 158,
   "metadata": {
    "tags": []
   },
   "outputs": [
    {
     "data": {
      "text/plain": [
       "[['', 1263],\n",
       " ['mariner(747734)', 295],\n",
       " ['fachin(749039)', 237],\n",
       " ['tesser da panni da seda(762608)', 187],\n",
       " ['masser(748476)', 182],\n",
       " ['samitarius(759573)', 149],\n",
       " ['laner(750149)', 133],\n",
       " ['tesser da panni(753783)', 128],\n",
       " ['sartor(755657)', 103],\n",
       " ['barcariol(747742)', 99]]"
      ]
     },
     "execution_count": 158,
     "metadata": {},
     "output_type": "execute_result"
    }
   ],
   "source": [
    "### Professions\n",
    "\n",
    "d = pd.DataFrame(pl_df.groupby('mestieri').size(),columns=['effectif']).reset_index()\n",
    "sd = d.sort_values(by='effectif', ascending = False)\n",
    "sd.values.tolist()[:10]"
   ]
  },
  {
   "cell_type": "code",
   "execution_count": null,
   "metadata": {},
   "outputs": [],
   "source": []
  },
  {
   "cell_type": "code",
   "execution_count": null,
   "metadata": {},
   "outputs": [],
   "source": []
  },
  {
   "cell_type": "code",
   "execution_count": null,
   "metadata": {},
   "outputs": [],
   "source": []
  },
  {
   "cell_type": "code",
   "execution_count": null,
   "metadata": {},
   "outputs": [],
   "source": []
  },
  {
   "cell_type": "markdown",
   "metadata": {},
   "source": [
    "# Préparation préalable à la mise 'à plat' du fichier \n",
    "\n",
    "Sont ici documentés les choix d'agrégation des données —cf. ci-dessus— effectués afin de pouvoir effectuer plus facilement les analyses"
   ]
  },
  {
   "cell_type": "code",
   "execution_count": 14,
   "metadata": {},
   "outputs": [
    {
     "data": {
      "text/plain": [
       "[(81417, 'Tommaso di Lorenzo Spilman (tedesco)')]"
      ]
     },
     "execution_count": 14,
     "metadata": {},
     "output_type": "execute_result"
    }
   ],
   "source": [
    "### Person\n",
    "[(r.col_0.entity.pk_entity, r.col_0.entity.entity_label) for r in dm_r[0:1]]\n"
   ]
  },
  {
   "cell_type": "code",
   "execution_count": 81,
   "metadata": {},
   "outputs": [
    {
     "data": {
      "text/plain": [
       "['Maschile']"
      ]
     },
     "execution_count": 81,
     "metadata": {},
     "output_type": "execute_result"
    }
   ],
   "source": [
    "### Gender\n",
    "# La première entrée est retenue (normalement il n'y en a pas plus)\n",
    "[r.col_1.entities[0].entity_label if r.col_1 else 'missing' for r in dm_r[0:1]]"
   ]
  },
  {
   "cell_type": "code",
   "execution_count": 83,
   "metadata": {},
   "outputs": [
    {
     "data": {
      "text/plain": [
       "[['Modena(1083842)'],\n",
       " ['Costae diocesis Adriensis(1083910)'],\n",
       " [],\n",
       " ['Zurbao (1084309)'],\n",
       " ['Territorio di Milano(755887)', 'Rancio (1084720)'],\n",
       " ['Territorio di Udine(759336)'],\n",
       " ['Territorio di Brescia(768454)'],\n",
       " ['Ballobia (1084355)', 'Dioecesis Palentina(1084368)'],\n",
       " [],\n",
       " []]"
      ]
     },
     "execution_count": 83,
     "metadata": {},
     "output_type": "execute_result"
    }
   ],
   "source": [
    "### Origin\n",
    "# Plusieurs origines son possibles pour une même personne : laquelle retenir ?\n",
    "[[p.entity_label + '('+ str(p.pk_entity) +')' for p in r.col_5.entities] for r in dm_r[10:20]]"
   ]
  },
  {
   "cell_type": "code",
   "execution_count": 84,
   "metadata": {},
   "outputs": [
    {
     "data": {
      "text/plain": [
       "[['mercante de panni (763128)'],\n",
       " ['boter(752920)'],\n",
       " [],\n",
       " ['portador da vin(748738)'],\n",
       " [],\n",
       " ['mariner(747734)', 'servir in bottega de luganegher (754028)'],\n",
       " ['pestriner(749677)', 'latter(749702)'],\n",
       " ['verghezin (748828)'],\n",
       " ['verghezin (748828)'],\n",
       " ['verghezin (748828)']]"
      ]
     },
     "execution_count": 84,
     "metadata": {},
     "output_type": "execute_result"
    }
   ],
   "source": [
    "### Occupation\n",
    "# Plusieurs métiers sont possibles pour la même personne\n",
    "[[p.entity_label + '('+ str(p.pk_entity) +')' for p in r.col_4.entities] for r in dm_r[40:50]]"
   ]
  },
  {
   "cell_type": "code",
   "execution_count": null,
   "metadata": {
    "scrolled": true,
    "tags": []
   },
   "outputs": [],
   "source": [
    "### Occupation\n",
    "# Plusieurs métiers sont possibles pour la même personne\n",
    "t1 = pd.DataFrame([[p.entity_label + '('+ str(p.pk_entity) +')' for p in r.col_4.entities][0] for r in dm_r if r.col_4.entities], columns=['occupation'])\n",
    "t2 = t1.groupby('occupation').size()\n",
    "t3 = t2.sort_values(ascending = False)\n",
    "pd.DataFrame(t3,columns=['effectif']).reset_index().iloc[:50]"
   ]
  },
  {
   "cell_type": "code",
   "execution_count": 310,
   "metadata": {
    "tags": []
   },
   "outputs": [
    {
     "name": "stdout",
     "output_type": "stream",
     "text": [
      "747846\n",
      "1527\n",
      "-----\n",
      "748299\n",
      "1578 [1577, 1579]\n",
      "-----\n",
      "748322\n",
      "1564 [1562, 1567]\n",
      "-----\n",
      "748378\n",
      "1537\n",
      "-----\n"
     ]
    }
   ],
   "source": [
    "### Année de naissance\n",
    "# Plusieurs années sont renseignées (ad quem, a quo) : la moyenne arrondie est retenue\n",
    "for r in dm_r[36:40]:\n",
    "    print(r.col_0.entity.pk_entity)\n",
    "    values = []\n",
    "    for v in r.col_2['values']:\n",
    "        if v.value.timePrimitive:\n",
    "            values.append(int(v.value.timePrimitive['from'].calGregorian[:4]))\n",
    "    if len(values) > 1:\n",
    "        print(int(round(np.rint(np.mean(values)))), values)\n",
    "    elif len(values) > 0:    \n",
    "        print(values[0])\n",
    "    else:\n",
    "        print(None)\n",
    "    print('-----')       "
   ]
  },
  {
   "cell_type": "code",
   "execution_count": null,
   "metadata": {
    "scrolled": true,
    "tags": []
   },
   "outputs": [],
   "source": [
    "### Année processetto\n",
    "for r in dm_r[50:60]:\n",
    "    print(r.col_0.entity.pk_entity)\n",
    "    values = []\n",
    "    for v in r.col_7['values']:\n",
    "        if v.value.timePrimitive:\n",
    "            values.append(int(v.value.timePrimitive['from'].calGregorian[:4]))\n",
    "    if len(values) > 1:\n",
    "        print(int(round(np.rint(np.mean(values)))), values)\n",
    "    elif len(values) > 0:    \n",
    "        print(values[0])\n",
    "    else:\n",
    "        print(None)\n",
    "    print('-----')       "
   ]
  },
  {
   "cell_type": "code",
   "execution_count": null,
   "metadata": {
    "scrolled": true,
    "tags": []
   },
   "outputs": [],
   "source": [
    "### Années union\n",
    "# Plusieurs années sont renseignées (ad quem, a quo) : la moyenne arrondie est retenue\n",
    "for r in dm_r[:500]:\n",
    "    \n",
    "    values = []\n",
    "    for v in r.col_13['values']:\n",
    "        if v.value.timePrimitive:\n",
    "            values.append(int(v.value.timePrimitive['from'].calGregorian[:4]))\n",
    "            values.append(int(v.value.timePrimitive['to'].calGregorian[:4]))\n",
    "    if len(values) > 1:\n",
    "        print(r.col_0.entity.pk_entity)\n",
    "        print(int(round(np.rint(np.mean(values)))), values)\n",
    "        print('-----')       \n",
    "    elif len(values) > 0:  \n",
    "        print(r.col_0.entity.pk_entity)\n",
    "        print(values[0])\n",
    "        print('-----')       \n",
    "    else:\n",
    "        pass\n",
    "        # print(r.col_0.entity.pk_entity)\n",
    "        # print(None)\n",
    "        # print('-----')       "
   ]
  },
  {
   "cell_type": "code",
   "execution_count": null,
   "metadata": {},
   "outputs": [],
   "source": []
  },
  {
   "cell_type": "markdown",
   "metadata": {},
   "source": [
    "### Bouts de code à ranger ou éliminer"
   ]
  },
  {
   "cell_type": "code",
   "execution_count": 113,
   "metadata": {},
   "outputs": [],
   "source": [
    "### Transformation en dictionnaire \n",
    "pl_dict = pl_df.to_dict('records')"
   ]
  },
  {
   "cell_type": "code",
   "execution_count": 358,
   "metadata": {},
   "outputs": [
    {
     "data": {
      "text/plain": [
       "\"[{'id_persona': 81417, 'nome': 'Tommaso di Lorenzo Spilman (tedesco)', 'anno_nascita': 1558.0, 'genere': 'Maschile', 'luogo_origine': 'Alemania(753623)', 'mestieri': '', 'numero_processetti': 0, 'id_primo_processetto': 0, 'anno_primo_processetto': nan, 'tipo_primo_processetto': '', 'numero_testimonianze': 1, 'id_prima_testimonianza': 739330, 'anno_prima_testimonianza': 1592.0, 'tipo_prima_testimonianza': 'Stato libero di “foresto” #Processetto atipico ', 'date_unions': nan}, {'id_persona': 81461, 'nome': 'Gieremia Vais', 'anno_nascita': nan, 'genere': 'Maschile', 'luogo_origine': '', 'mestieri': '', 'numero_processetti': 0, 'id_primo_processetto': 0, 'anno_primo_processetto': nan, 'tipo_primo_processetto': '', 'numero_testimonianze': 0, 'id_prima_testimonianza': 0, 'anno_prima_testimonianza': nan, 'tipo_prima_testimonianza': '', 'date_unions': nan}, {'id_persona': 81648, 'nome': 'Limoletti, Domenico', 'anno_nascita': nan, 'genere': 'Maschile', 'luogo_origine': '', 'mestieri': '', 'nume\""
      ]
     },
     "execution_count": 358,
     "metadata": {},
     "output_type": "execute_result"
    }
   ],
   "source": [
    "str(pl_dict)[:1000]"
   ]
  },
  {
   "cell_type": "code",
   "execution_count": null,
   "metadata": {},
   "outputs": [],
   "source": []
  },
  {
   "cell_type": "code",
   "execution_count": null,
   "metadata": {},
   "outputs": [],
   "source": []
  },
  {
   "cell_type": "code",
   "execution_count": null,
   "metadata": {},
   "outputs": [],
   "source": []
  },
  {
   "cell_type": "markdown",
   "metadata": {},
   "source": [
    "### Gender"
   ]
  },
  {
   "cell_type": "code",
   "execution_count": 13,
   "metadata": {},
   "outputs": [
    {
     "data": {
      "text/plain": [
       "['Maschile', 'Maschile', 'Maschile', 'Maschile', 'Maschile']"
      ]
     },
     "execution_count": 13,
     "metadata": {},
     "output_type": "execute_result"
    }
   ],
   "source": [
    "[r.col_1.entities[0].entity_label if r.col_1 else 'missing' for r in dm_r[0:5]]"
   ]
  },
  {
   "cell_type": "code",
   "execution_count": 14,
   "metadata": {},
   "outputs": [
    {
     "name": "stdout",
     "output_type": "stream",
     "text": [
      "['Maschile', 'Maschile', 'Maschile', 'Maschile', 'Maschile', 'Maschile']\n"
     ]
    },
    {
     "data": {
      "text/plain": [
       "5608"
      ]
     },
     "execution_count": 14,
     "metadata": {},
     "output_type": "execute_result"
    }
   ],
   "source": [
    "### gender list -> gl\n",
    "gl = [r.col_1.entities[0].entity_label if r.col_1.entities else 'missing' for r in dm_r]\n",
    "print(gl[101:107])\n",
    "len(gl)"
   ]
  },
  {
   "cell_type": "code",
   "execution_count": 15,
   "metadata": {},
   "outputs": [
    {
     "name": "stdout",
     "output_type": "stream",
     "text": [
      "{'Maschile': 4935, 'Femminile': 636, 'missing': 37}\n"
     ]
    },
    {
     "data": {
      "text/plain": [
       "3"
      ]
     },
     "execution_count": 15,
     "metadata": {},
     "output_type": "execute_result"
    }
   ],
   "source": [
    "D = dict(Counter(gl))\n",
    "print(D)\n",
    "len(D)"
   ]
  },
  {
   "cell_type": "code",
   "execution_count": 16,
   "metadata": {},
   "outputs": [
    {
     "data": {
      "image/png": "[encoded data removed]",
      "text/plain": [
       "<Figure size 432x288 with 1 Axes>"
      ]
     },
     "metadata": {
      "needs_background": "light"
     },
     "output_type": "display_data"
    }
   ],
   "source": [
    "plt.bar(range(len(D)), list(D.values()), align='center', width=0.7)\n",
    "plt.xticks(range(len(D)), list(D.keys()))\n",
    "plt.show()"
   ]
  },
  {
   "cell_type": "code",
   "execution_count": null,
   "metadata": {},
   "outputs": [],
   "source": []
  },
  {
   "cell_type": "markdown",
   "metadata": {},
   "source": [
    "## Age by category"
   ]
  },
  {
   "cell_type": "code",
   "execution_count": null,
   "metadata": {
    "scrolled": true
   },
   "outputs": [],
   "source": [
    "# [pprint.pprint(r) for r in rows[50:100]]"
   ]
  },
  {
   "cell_type": "code",
   "execution_count": null,
   "metadata": {},
   "outputs": [],
   "source": [
    "def get_entities_JD(entities):\n",
    "    result = []\n",
    "    for e in entities:\n",
    "        if e.time_span.p82.julianDay:\n",
    "            result.append({'pk_teen' : e.pk_entity, 'JD' : e.time_span.p82.julianDay})\n",
    "        elif e.time_span.p81a.julianDay:\n",
    "            result.append({'pk_teen' : e.pk_entity, 'JD' : e.time_span.p81a.julianDay})\n",
    "        elif e.time_span.p82a.julianDay:\n",
    "            result.append({'pk_teen' : e.pk_entity, 'JD' : e.time_span.p82a.julianDay})\n",
    "        else:\n",
    "            result.append(None)\n",
    "\n",
    "    return result\n",
    "\n",
    "def get_entities_label(entities):\n",
    "    result = []\n",
    "    for e in entities:\n",
    "        if e.entity_label:\n",
    "            result.append(e.entity_label)\n",
    "        else:\n",
    "            result.append(None)\n",
    "\n",
    "    return result"
   ]
  },
  {
   "cell_type": "code",
   "execution_count": null,
   "metadata": {},
   "outputs": [],
   "source": []
  },
  {
   "cell_type": "code",
   "execution_count": null,
   "metadata": {},
   "outputs": [],
   "source": [
    "ageOccupationProcessetto = []\n",
    "for r in dm_r: #[299:303]:\n",
    "    \n",
    "    ## person identifier\n",
    "    pk_entity = r.col_0.entity.pk_entity\n",
    "\n",
    "    ## births\n",
    "    birthsJD = get_entities_JD(r.col_3.entities)\n",
    "    \n",
    "    ## occupations, join the labels    \n",
    "    occupations = ','.join([e.entity_label for e in r.col_10.entities])\n",
    "    \n",
    "    ## occupations, list \n",
    "    occupations_l = get_entities_label(r.col_10.entities)\n",
    "    \n",
    "    ## enquiries, get begin date\n",
    "    enquiries = get_entities_JD(r.col_11.entities)\n",
    "\n",
    "    ## witnesses, get begin date\n",
    "    witnesses =  get_entities_JD(r.col_12.entities)\n",
    "                \n",
    "    ageOccupationProcessetto.append([pk_entity, birthsJD, occupations_l, enquiries, witnesses])               \n",
    "    \n",
    "    \n",
    "    \n"
   ]
  },
  {
   "cell_type": "code",
   "execution_count": null,
   "metadata": {
    "scrolled": true
   },
   "outputs": [],
   "source": [
    "pprint.pprint(ageOccupationProcessetto[50:100])"
   ]
  },
  {
   "cell_type": "code",
   "execution_count": null,
   "metadata": {},
   "outputs": [],
   "source": [
    "### age au moment du processetto et métier\n",
    "dateBirthEnquiryOccupation = []\n",
    "for l in ageOccupationProcessetto: #[50:70]:\n",
    "    if l[1] and l[3]:\n",
    "        if l[1][0] and l[3][0]:\n",
    "            d = [jd.jd2jcal((l[1][0]['JD']),0)[0:3],jd.jd2jcal((l[3][0]['JD']),0)[0:3]]\n",
    "            if l[2]:\n",
    "                dateBirthEnquiryOccupation.append(d + [l[2]])\n",
    "            else:    \n",
    "                dateBirthEnquiryOccupation.append(d )\n",
    "    else:\n",
    "        dateBirthEnquiryOccupation.append(None)\n",
    "\n",
    "    "
   ]
  },
  {
   "cell_type": "code",
   "execution_count": null,
   "metadata": {},
   "outputs": [],
   "source": [
    "ages = [(y[1][0] - y[0][0]) for y in dateBirthEnquiryOccupation if y]\n",
    "print(ages[:5])"
   ]
  },
  {
   "cell_type": "code",
   "execution_count": null,
   "metadata": {},
   "outputs": [],
   "source": [
    "s_ages = pd.Series(ages)\n",
    "s_ages.describe()"
   ]
  },
  {
   "cell_type": "code",
   "execution_count": null,
   "metadata": {},
   "outputs": [],
   "source": [
    "std = s_ages.sort_values()\n",
    "type(std)"
   ]
  },
  {
   "cell_type": "code",
   "execution_count": null,
   "metadata": {},
   "outputs": [],
   "source": [
    "# agesCount\n",
    "agesCount = pd.DataFrame(s_ages, columns=['column']).groupby(['column']).size()\n",
    "# print(type(agesCount))\n",
    "# agesCount.index"
   ]
  },
  {
   "cell_type": "code",
   "execution_count": null,
   "metadata": {},
   "outputs": [],
   "source": []
  },
  {
   "cell_type": "code",
   "execution_count": null,
   "metadata": {},
   "outputs": [],
   "source": [
    "ax = agesCount.plot.bar(x='lab', y='val', rot=70, figsize=(20,5))"
   ]
  },
  {
   "cell_type": "code",
   "execution_count": null,
   "metadata": {},
   "outputs": [],
   "source": []
  },
  {
   "cell_type": "code",
   "execution_count": null,
   "metadata": {},
   "outputs": [],
   "source": []
  },
  {
   "cell_type": "code",
   "execution_count": null,
   "metadata": {},
   "outputs": [],
   "source": []
  },
  {
   "cell_type": "code",
   "execution_count": null,
   "metadata": {},
   "outputs": [],
   "source": []
  },
  {
   "cell_type": "code",
   "execution_count": null,
   "metadata": {},
   "outputs": [],
   "source": []
  },
  {
   "cell_type": "code",
   "execution_count": null,
   "metadata": {},
   "outputs": [],
   "source": []
  }
 ],
 "metadata": {
  "kernelspec": {
   "display_name": "Py 3.7 Geovistory Analysis Public",
   "language": "python",
   "name": "py37_analysis_public"
  },
  "language_info": {
   "codemirror_mode": {
    "name": "ipython",
    "version": 3
   },
   "file_extension": ".py",
   "mimetype": "text/x-python",
   "name": "python",
   "nbconvert_exporter": "python",
   "pygments_lexer": "ipython3",
   "version": "3.7.10"
  }
 },
 "nbformat": 4,
 "nbformat_minor": 4
}
